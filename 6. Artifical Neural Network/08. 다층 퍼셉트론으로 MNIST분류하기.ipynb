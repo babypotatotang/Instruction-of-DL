{
  "nbformat": 4,
  "nbformat_minor": 0,
  "metadata": {
    "colab": {
      "private_outputs": true,
      "provenance": [],
      "authorship_tag": "ABX9TyOdg/sNkdGMBAuNZkMo+OZN",
      "include_colab_link": true
    },
    "kernelspec": {
      "name": "python3",
      "display_name": "Python 3"
    },
    "language_info": {
      "name": "python"
    }
  },
  "cells": [
    {
      "cell_type": "markdown",
      "metadata": {
        "id": "view-in-github",
        "colab_type": "text"
      },
      "source": [
        "<a href=\"https://colab.research.google.com/github/babypotatotang/Introduction-to-DeepLearning/blob/main/6.%20Artifical%20Neural%20Network/08.%20%EB%8B%A4%EC%B8%B5%20%ED%8D%BC%EC%85%89%ED%8A%B8%EB%A1%A0%EC%9C%BC%EB%A1%9C%20MNIST%EB%B6%84%EB%A5%98%ED%95%98%EA%B8%B0.ipynb\" target=\"_parent\"><img src=\"https://colab.research.google.com/assets/colab-badge.svg\" alt=\"Open In Colab\"/></a>"
      ]
    },
    {
      "cell_type": "markdown",
      "source": [
        "#1. 데이터 로드하기\n",
        "---"
      ],
      "metadata": {
        "id": "ORlI76MKyKZU"
      }
    },
    {
      "cell_type": "code",
      "source": [
        "import numpy as np\n",
        "import matplotlib.pyplot as plt\n",
        "%matplotlib inline\n",
        "\n",
        "from sklearn.datasets import fetch_openml # 데이터셋 load"
      ],
      "metadata": {
        "id": "53_PkL0syxrd"
      },
      "execution_count": null,
      "outputs": []
    },
    {
      "cell_type": "code",
      "source": [
        "mnist = fetch_openml('mnist_784', version=1, cache=True, as_frame = False)"
      ],
      "metadata": {
        "id": "G_Lr4LpBzFjV"
      },
      "execution_count": null,
      "outputs": []
    },
    {
      "cell_type": "code",
      "source": [
        "mnist.data"
      ],
      "metadata": {
        "id": "hwe-N6ZfzsqX"
      },
      "execution_count": null,
      "outputs": []
    },
    {
      "cell_type": "code",
      "source": [
        "mnist.target[0]"
      ],
      "metadata": {
        "id": "UhZHHYthz3MW"
      },
      "execution_count": null,
      "outputs": []
    },
    {
      "cell_type": "code",
      "source": [
        "mnist.target = mnist.target.astype(np.int8)"
      ],
      "metadata": {
        "id": "IwltXxnV0Ch7"
      },
      "execution_count": null,
      "outputs": []
    },
    {
      "cell_type": "code",
      "source": [
        "X = mnist.data / 255  # 0-255값을 [0,1] 구간으로 정규화\n",
        "y = mnist.target"
      ],
      "metadata": {
        "id": "VPFvCk5I0NDL"
      },
      "execution_count": null,
      "outputs": []
    },
    {
      "cell_type": "code",
      "source": [
        "X[0]"
      ],
      "metadata": {
        "id": "LY_7gbUs0NPg"
      },
      "execution_count": null,
      "outputs": []
    },
    {
      "cell_type": "code",
      "source": [
        "y[0]"
      ],
      "metadata": {
        "id": "ONwxANcY0NTL"
      },
      "execution_count": null,
      "outputs": []
    },
    {
      "cell_type": "code",
      "source": [
        "plt.imshow(X[0].reshape(28,28), cmap = 'gray')\n",
        "print(f'이 이미지 데이터의 레이블은 {y[0]}입니다.')"
      ],
      "metadata": {
        "id": "Z9i7IcAt1v7i"
      },
      "execution_count": null,
      "outputs": []
    },
    {
      "cell_type": "markdown",
      "source": [
        "#2. 훈련 데이터와 테스트 데이터의 분리 \n",
        "---"
      ],
      "metadata": {
        "id": "bMM2fd8U1_Ti"
      }
    },
    {
      "cell_type": "code",
      "source": [
        "import torch \n",
        "from torch.utils.data import TensorDataset, DataLoader \n",
        "from sklearn.model_selection import train_test_split"
      ],
      "metadata": {
        "id": "UgvTZ42O1-ks"
      },
      "execution_count": null,
      "outputs": []
    },
    {
      "cell_type": "code",
      "source": [
        "X_train, X_test, y_train, y_test = train_test_split(X, y, test_size=1/7, random_state=0)\n",
        "\n",
        "X_train = torch.Tensor(X_train)\n",
        "X_test = torch.Tensor(X_test)\n",
        "y_train = torch.LongTensor(y_train)\n",
        "y_test = torch.LongTensor(y_test)\n",
        "\n",
        "ds_train = TensorDataset(X_train, y_train)\n",
        "ds_test = TensorDataset(X_test, y_test)\n",
        "\n",
        "loader_train = DataLoader(ds_train, batch_size=64, shuffle=True)\n",
        "loader_test = DataLoader(ds_test, batch_size=64, shuffle=False)"
      ],
      "metadata": {
        "id": "7b0DtyA68sGw"
      },
      "execution_count": null,
      "outputs": []
    },
    {
      "cell_type": "markdown",
      "source": [
        "#3. 다층 퍼셉트론 \n",
        "---"
      ],
      "metadata": {
        "id": "YUH7SpN1_2bU"
      }
    },
    {
      "cell_type": "code",
      "source": [
        "from torch import nn \n",
        "\n",
        "model = nn.Sequential()\n",
        "model.add_module('fc1', nn.Linear(28*28*1, 100))\n",
        "model.add_module('relu1', nn.ReLU())\n",
        "model.add_module('fc2', nn.Linear(100,100))\n",
        "model.add_module('relu2', nn.ReLU())\n",
        "model.add_module('fc3', nn.Linear(100,10))\n",
        "\n",
        "print(model)"
      ],
      "metadata": {
        "id": "X8qQYa10_4pI"
      },
      "execution_count": null,
      "outputs": []
    },
    {
      "cell_type": "code",
      "source": [
        "from torch import optim \n",
        "\n",
        "# 오차함수 선택 \n",
        "loss_fn = nn.CrossEntropyLoss()\n",
        "\n",
        "# 가중치를 학습하기 위한 최적화 기법 선택 \n",
        "optimizer = optim.Adam(model.parameters(), lr = 0.01)"
      ],
      "metadata": {
        "id": "WifsFPn2AURz"
      },
      "execution_count": null,
      "outputs": []
    },
    {
      "cell_type": "code",
      "source": [
        "def train(epoch):\n",
        "    model.train() # 신경마을 학습모드로 전환 \n",
        "\n",
        "    # 데이터로더에서 미니배치를 하나씩 꺼내 학습을 수행 \n",
        "    for data, targets in loader_train:\n",
        "        optimizer.zero_grad() # 경사를 0으로 초기화 \n",
        "\n",
        "        outputs = model(data) # 데이터를 입력하고 출력을 계산 \n",
        "        loss = loss_fn(outputs, targets) # 출력과 훈련데이터 정답 간의 오차를 계산 \n",
        "        \n",
        "        loss.backward() # 오차를 역전파 계산 \n",
        "        optimizer.step() # 역전파 계산한 값으로 가중치 수정 \n",
        "\n",
        "    print(f\"epoch {epoch} 완료\")"
      ],
      "metadata": {
        "id": "Q-bRafPIAjKs"
      },
      "execution_count": null,
      "outputs": []
    },
    {
      "cell_type": "code",
      "source": [
        "def test():\n",
        "    model.eval() # 신경망을 추론모드로 전환\n",
        "    correct = 0 \n",
        "\n",
        "    # 데이터로더에서 미니배치를 하나씩 꺼내 추론을 수행 \n",
        "    with torch.no_grad(): # 추론 과정에는 미분이 필요 없음. \n",
        "        for data, targets in loader_test:\n",
        "            outputs = model(data) # 데이터를 입력하고 출력 계산 \n",
        "\n",
        "            # 추론 계산 \n",
        "            _, predicted = torch.max(outputs.data, 1) # 확률이 가장 높은 레이블이 무엇인지 계산 \n",
        "            correct += predicted.eq(targets.data.view_as(predicted)).sum() # 정답과 일치한 경우 정답 카운트 증가 \n",
        "\n",
        "            # 정확도 출력 \n",
        "            data_num = len(loader_test.dataset) # 데이터 총 건수 \n",
        "\n",
        "    print(f\"테스트 데이터에서 예측 정확도 : {correct} / {data_num} {100. * (correct / data_num):.2f}%\")\n",
        "            "
      ],
      "metadata": {
        "id": "k95cbCH7BZqg"
      },
      "execution_count": null,
      "outputs": []
    },
    {
      "cell_type": "code",
      "source": [
        "test()"
      ],
      "metadata": {
        "id": "3oVJZouUCvCx"
      },
      "execution_count": null,
      "outputs": []
    },
    {
      "cell_type": "code",
      "source": [
        "for epoch in range(3):\n",
        "    train(epoch)\n",
        "\n",
        "test()"
      ],
      "metadata": {
        "id": "65DDsJl3CyCN"
      },
      "execution_count": null,
      "outputs": []
    },
    {
      "cell_type": "code",
      "source": [
        "index = 2018 \n",
        "\n",
        "model.eval() # 신경망을 추론 모드로 전환 \n",
        "data = X_test[index]\n",
        "output = model(data) # 데이터를 입력하고 출력을 계산 \n",
        "_, predicted = torch.max(output.data, 0) # 확률이 가장 높은 레이블이 무엇인지 계산 \n",
        "\n",
        "print(f'예측 결과 : {predicted}')\n",
        "\n",
        "X_test_show = (X_test[index]).numpy()\n",
        "plt.imshow(X_test_show.reshape(28,28), cmap = 'gray')\n",
        "print(f\"이 이미지 데이터의 정답 레이블은 {y_test[index]:.0f}\")"
      ],
      "metadata": {
        "id": "Wnom7-bGDrTO"
      },
      "execution_count": null,
      "outputs": []
    }
  ]
}