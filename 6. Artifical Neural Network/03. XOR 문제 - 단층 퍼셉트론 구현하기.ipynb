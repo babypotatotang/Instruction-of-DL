{
 "cells": [
  {
   "cell_type": "markdown",
   "metadata": {},
   "source": [
    "## **03. XOR 문제 - 단층 퍼셉트론 구현하기**\n",
    "---"
   ]
  },
  {
   "cell_type": "markdown",
   "metadata": {},
   "source": [
    "### **(01) pytorch로 단층 퍼셉트론 구현하기**"
   ]
  },
  {
   "cell_type": "code",
   "execution_count": 1,
   "metadata": {},
   "outputs": [],
   "source": [
    "import torch"
   ]
  },
  {
   "cell_type": "code",
   "execution_count": 2,
   "metadata": {},
   "outputs": [],
   "source": [
    "device = 'cuda' if torch.cuda.is_available() else 'cpu'\n",
    "torch.manual_seed(777)\n",
    "if device == 'cuda':\n",
    "    torch.cuda.manual_seed_all(777)"
   ]
  },
  {
   "cell_type": "code",
   "execution_count": 4,
   "metadata": {},
   "outputs": [],
   "source": [
    "# XOR 문제에 대항되는 입력과 출력 \n",
    "\n",
    "x = torch.FloatTensor([[0,0], [0,1], [1,0], [1,1]]).to(device)\n",
    "y = torch.FloatTensor([[0],[1],[1],[0]]).to(device)"
   ]
  },
  {
   "cell_type": "code",
   "execution_count": 7,
   "metadata": {},
   "outputs": [],
   "source": [
    "# nn layers\n",
    "\n",
    "linear1 = torch.nn.Linear(2,2, bias = True)\n",
    "linear2 = torch.nn.Linear(2,1, bias = True)\n",
    "sigmoid = torch.nn.Sigmoid() # 활성 함수 "
   ]
  },
  {
   "cell_type": "code",
   "execution_count": 8,
   "metadata": {},
   "outputs": [],
   "source": [
    "# model \n",
    "\n",
    "model = torch.nn.Sequential(linear1, sigmoid, linear2, sigmoid).to(device)"
   ]
  },
  {
   "cell_type": "markdown",
   "metadata": {},
   "source": [
    "* 0 또는 1을 예측하는 이진분류문제이므로 비용함수로는 크로스 엔트로피 함수를 사용 \n",
    "* `nn.BCELoss()`는 이진 분류에서 사용하는 크로스 엔트로피 함수 "
   ]
  },
  {
   "cell_type": "code",
   "execution_count": 10,
   "metadata": {},
   "outputs": [],
   "source": [
    "# 비용함수와 옵티마이저 정의 \n",
    "\n",
    "criterion = torch.nn.BCELoss().to(device)\n",
    "optimizer = torch.optim.SGD(model.parameters(), lr = 1)"
   ]
  },
  {
   "cell_type": "code",
   "execution_count": 13,
   "metadata": {},
   "outputs": [
    {
     "name": "stdout",
     "output_type": "stream",
     "text": [
      "0 epoch: 0.34716302156448364 Cost\n",
      "100 epoch: 0.3471565246582031 Cost\n",
      "200 epoch: 0.347150057554245 Cost\n",
      "300 epoch: 0.34714367985725403 Cost\n",
      "400 epoch: 0.3471377491950989 Cost\n",
      "500 epoch: 0.3471316695213318 Cost\n",
      "600 epoch: 0.34712573885917664 Cost\n",
      "700 epoch: 0.3471199870109558 Cost\n",
      "800 epoch: 0.34711408615112305 Cost\n",
      "900 epoch: 0.3471085727214813 Cost\n",
      "1000 epoch: 0.3471029996871948 Cost\n",
      "1100 epoch: 0.347097784280777 Cost\n",
      "1200 epoch: 0.3470924496650696 Cost\n",
      "1300 epoch: 0.34708744287490845 Cost\n",
      "1400 epoch: 0.3470822274684906 Cost\n",
      "1500 epoch: 0.3470775783061981 Cost\n",
      "1600 epoch: 0.3470726013183594 Cost\n",
      "1700 epoch: 0.34706801176071167 Cost\n",
      "1800 epoch: 0.34706324338912964 Cost\n",
      "1900 epoch: 0.34705859422683716 Cost\n",
      "2000 epoch: 0.34705421328544617 Cost\n",
      "2100 epoch: 0.3470497131347656 Cost\n",
      "2200 epoch: 0.347045361995697 Cost\n",
      "2300 epoch: 0.34704113006591797 Cost\n",
      "2400 epoch: 0.3470368981361389 Cost\n",
      "2500 epoch: 0.34703290462493896 Cost\n",
      "2600 epoch: 0.34702882170677185 Cost\n",
      "2700 epoch: 0.3470247983932495 Cost\n",
      "2800 epoch: 0.34702104330062866 Cost\n",
      "2900 epoch: 0.34701693058013916 Cost\n",
      "3000 epoch: 0.34701329469680786 Cost\n",
      "3100 epoch: 0.34700965881347656 Cost\n",
      "3200 epoch: 0.3470059037208557 Cost\n",
      "3300 epoch: 0.34700244665145874 Cost\n",
      "3400 epoch: 0.3469987213611603 Cost\n",
      "3500 epoch: 0.3469952344894409 Cost\n",
      "3600 epoch: 0.3469918370246887 Cost\n",
      "3700 epoch: 0.3469884693622589 Cost\n",
      "3800 epoch: 0.3469852805137634 Cost\n",
      "3900 epoch: 0.34698185324668884 Cost\n",
      "4000 epoch: 0.34697872400283813 Cost\n",
      "4100 epoch: 0.34697550535202026 Cost\n",
      "4200 epoch: 0.3469725251197815 Cost\n",
      "4300 epoch: 0.3469695448875427 Cost\n",
      "4400 epoch: 0.34696653485298157 Cost\n",
      "4500 epoch: 0.34696364402770996 Cost\n",
      "4600 epoch: 0.34696072340011597 Cost\n",
      "4700 epoch: 0.34695786237716675 Cost\n",
      "4800 epoch: 0.34695491194725037 Cost\n",
      "4900 epoch: 0.3469521105289459 Cost\n",
      "5000 epoch: 0.3469492793083191 Cost\n",
      "5100 epoch: 0.3469465970993042 Cost\n",
      "5200 epoch: 0.34694385528564453 Cost\n",
      "5300 epoch: 0.346941202878952 Cost\n",
      "5400 epoch: 0.34693849086761475 Cost\n",
      "5500 epoch: 0.34693607687950134 Cost\n",
      "5600 epoch: 0.346933513879776 Cost\n",
      "5700 epoch: 0.3469310998916626 Cost\n",
      "5800 epoch: 0.3469284772872925 Cost\n",
      "5900 epoch: 0.34692612290382385 Cost\n",
      "6000 epoch: 0.3469237983226776 Cost\n",
      "6100 epoch: 0.3469213545322418 Cost\n",
      "6200 epoch: 0.3469190299510956 Cost\n",
      "6300 epoch: 0.34691670536994934 Cost\n",
      "6400 epoch: 0.34691452980041504 Cost\n",
      "6500 epoch: 0.3469121754169464 Cost\n",
      "6600 epoch: 0.3469100296497345 Cost\n",
      "6700 epoch: 0.3469077944755554 Cost\n",
      "6800 epoch: 0.3469054400920868 Cost\n",
      "6900 epoch: 0.34690332412719727 Cost\n",
      "7000 epoch: 0.3469012677669525 Cost\n",
      "7100 epoch: 0.3468991816043854 Cost\n",
      "7200 epoch: 0.34689730405807495 Cost\n",
      "7300 epoch: 0.3468950390815735 Cost\n",
      "7400 epoch: 0.3468930721282959 Cost\n",
      "7500 epoch: 0.34689098596572876 Cost\n",
      "7600 epoch: 0.3468892276287079 Cost\n",
      "7700 epoch: 0.3468872308731079 Cost\n",
      "7800 epoch: 0.34688514471054077 Cost\n",
      "7900 epoch: 0.3468834459781647 Cost\n",
      "8000 epoch: 0.3468814790248871 Cost\n",
      "8100 epoch: 0.34687966108322144 Cost\n",
      "8200 epoch: 0.3468779921531677 Cost\n",
      "8300 epoch: 0.3468759059906006 Cost\n",
      "8400 epoch: 0.3468744158744812 Cost\n",
      "8500 epoch: 0.34687262773513794 Cost\n",
      "8600 epoch: 0.3468707799911499 Cost\n",
      "8700 epoch: 0.34686902165412903 Cost\n",
      "8800 epoch: 0.34686726331710815 Cost\n",
      "8900 epoch: 0.34686583280563354 Cost\n",
      "9000 epoch: 0.3468639552593231 Cost\n",
      "9100 epoch: 0.3468623757362366 Cost\n",
      "9200 epoch: 0.34686070680618286 Cost\n",
      "9300 epoch: 0.3468590974807739 Cost\n",
      "9400 epoch: 0.34685754776000977 Cost\n",
      "9500 epoch: 0.34685587882995605 Cost\n",
      "9600 epoch: 0.3468543291091919 Cost\n",
      "9700 epoch: 0.3468528985977173 Cost\n",
      "9800 epoch: 0.346851110458374 Cost\n",
      "9900 epoch: 0.34684962034225464 Cost\n",
      "10000 epoch: 0.3468482494354248 Cost\n"
     ]
    }
   ],
   "source": [
    "# 10,000번 에포크 사용\n",
    "\n",
    "for step in range(10001):\n",
    "    optimizer.zero_grad()\n",
    "    hypothesis = model(x)\n",
    "\n",
    "    # 비용함수 \n",
    "    cost = criterion(hypothesis, y)\n",
    "    cost.backward()\n",
    "    optimizer.step()\n",
    "\n",
    "    if step % 100 == 0: # 100번 에포크마다 비용 출력 \n",
    "        print(f\"{step} epoch: {cost.item()} Cost\")"
   ]
  },
  {
   "cell_type": "markdown",
   "metadata": {},
   "source": [
    "### **(02) 학습된 단층 퍼셉트론의 예측값 확인하기**"
   ]
  },
  {
   "cell_type": "code",
   "execution_count": 16,
   "metadata": {},
   "outputs": [
    {
     "name": "stdout",
     "output_type": "stream",
     "text": [
      "모델의 출력값 \n",
      " [[2.7531455e-04]\n",
      " [4.9987873e-01]\n",
      " [9.9970007e-01]\n",
      " [5.0014031e-01]]\n",
      "모델의 예측값 \n",
      " [[0.]\n",
      " [0.]\n",
      " [1.]\n",
      " [1.]]\n",
      "실제값 \n",
      " [[0.]\n",
      " [1.]\n",
      " [1.]\n",
      " [0.]]\n",
      "정확도 \n",
      " 0.5\n"
     ]
    }
   ],
   "source": [
    "with torch.no_grad():\n",
    "    hypothesis = model(x)\n",
    "    predicted = (hypothesis > 0.5).float()\n",
    "\n",
    "    acc = (predicted == y).float().mean()\n",
    "\n",
    "    print(f'모델의 출력값 \\n {hypothesis.detach().cpu().numpy()}')\n",
    "    print(f'모델의 예측값 \\n {predicted.detach().cpu().numpy()}')\n",
    "    print(f'실제값 \\n {y.cpu().numpy()}')\n",
    "    print(f'정확도 \\n {acc.item()}')"
   ]
  }
 ],
 "metadata": {
  "kernelspec": {
   "display_name": "Python 3.9.12 ('base')",
   "language": "python",
   "name": "python3"
  },
  "language_info": {
   "codemirror_mode": {
    "name": "ipython",
    "version": 3
   },
   "file_extension": ".py",
   "mimetype": "text/x-python",
   "name": "python",
   "nbconvert_exporter": "python",
   "pygments_lexer": "ipython3",
   "version": "3.9.12"
  },
  "orig_nbformat": 4,
  "vscode": {
   "interpreter": {
    "hash": "cd673d886f0c8f0dba767b3a4239afb773df2bd093281d736303479bcca641e0"
   }
  }
 },
 "nbformat": 4,
 "nbformat_minor": 2
}
