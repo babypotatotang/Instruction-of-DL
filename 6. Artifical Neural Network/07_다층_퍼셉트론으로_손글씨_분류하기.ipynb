{
  "nbformat": 4,
  "nbformat_minor": 0,
  "metadata": {
    "colab": {
      "private_outputs": true,
      "provenance": [],
      "collapsed_sections": [],
      "authorship_tag": "ABX9TyNLWBVVX98WQPZzJrBAh73s",
      "include_colab_link": true
    },
    "kernelspec": {
      "name": "python3",
      "display_name": "Python 3"
    },
    "language_info": {
      "name": "python"
    }
  },
  "cells": [
    {
      "cell_type": "markdown",
      "metadata": {
        "id": "view-in-github",
        "colab_type": "text"
      },
      "source": [
        "<a href=\"https://colab.research.google.com/github/babypotatotang/Introduction-to-DeepLearning/blob/main/6.%20Artifical%20Neural%20Network/07_%EB%8B%A4%EC%B8%B5_%ED%8D%BC%EC%85%89%ED%8A%B8%EB%A1%A0%EC%9C%BC%EB%A1%9C_%EC%86%90%EA%B8%80%EC%94%A8_%EB%B6%84%EB%A5%98%ED%95%98%EA%B8%B0.ipynb\" target=\"_parent\"><img src=\"https://colab.research.google.com/assets/colab-badge.svg\" alt=\"Open In Colab\"/></a>"
      ]
    },
    {
      "cell_type": "markdown",
      "source": [
        "# 07. 다층 퍼셉트론으로 손글씨 분류하기\n",
        "- 이번 챕터에서는 다층 퍼셉트론을 구현하고, 딥러닝을 통해 숫자 필기 데이터를 분류해보자. \n",
        "- MNIST 데이터와 다른 데이터임.\n",
        "\n",
        "## 1. 숫자 필기 데이터 소개 \n",
        "---\n",
        "숫자 필기 데이터는 사이킷런 패키지에서 제공하는 분류용 예제 데이터\n",
        "- 0부터 9까지의 숫자를 손으로 쓴 이미지 데이터로 `load_digits()` 명령으로 로드할 수 있음. \n",
        "- 각 이미지는 0부터 15까지의 명암을 가지는 8 x 8 =64 픽셀 해상도의 흑백 이미지\n",
        "- 해당 이미지는 총 1,797개 \n"
      ],
      "metadata": {
        "id": "vVFeUx53B_R8"
      }
    },
    {
      "cell_type": "code",
      "source": [
        "%matplotlib inline\n",
        "import matplotlib.pyplot as plt # 시각화를 위한 맷플롯립 \n",
        "from sklearn.datasets import load_digits \n",
        "\n",
        "digits = load_digits() # 1,797 개의 이미지 데이터 로드 \n",
        "print(digits.target[0]) # 첫번째 샘플의 label 출력 \n",
        "print(digits.images[0]) # 첫번째 샘플 출력 "
      ],
      "metadata": {
        "id": "y_U5IjCqCpk0"
      },
      "execution_count": null,
      "outputs": []
    },
    {
      "cell_type": "code",
      "source": [
        "print(\"전체 샘플의 수 : {}\".format(len(digits.images)))"
      ],
      "metadata": {
        "id": "ONt5DK_iD_Oj"
      },
      "execution_count": null,
      "outputs": []
    },
    {
      "cell_type": "code",
      "source": [
        "images_and_labels = list(zip(digits.images, digits.target))\n",
        "\n",
        "for index, (image, label) in enumerate(images_and_labels[:5]): # 5개의 샘플만 출력 \n",
        "    plt.subplot(2, 5, index+1)\n",
        "    plt.axis('off')\n",
        "    plt.imshow(image, cmap = plt.cm.gray_r, interpolation = 'nearest')\n",
        "    plt.title('sample : %i'% label)"
      ],
      "metadata": {
        "id": "QanwSKe1ETzU"
      },
      "execution_count": null,
      "outputs": []
    },
    {
      "cell_type": "code",
      "source": [
        "for i in range(5):\n",
        "    print(i, '번 인덱스 샙플의 레이블: ', digits.target[i])"
      ],
      "metadata": {
        "id": "-qCpOKQsFZoW"
      },
      "execution_count": null,
      "outputs": []
    },
    {
      "cell_type": "code",
      "source": [
        "'''\n",
        "8 x 8 행렬을 전부 64 차원의 벡터로 변환하여 저장한 상태 = digits.data[index]\n",
        "'''\n",
        "print(digits.data[0])\n",
        "print(len(digits.data[0]))"
      ],
      "metadata": {
        "id": "VXfE-N0KFi3O"
      },
      "execution_count": null,
      "outputs": []
    },
    {
      "cell_type": "code",
      "source": [
        "X = digits.data # 이미지. 즉, 특성 행렬\n",
        "Y = digits.target # 각 이미지에 대한 레이블"
      ],
      "metadata": {
        "id": "IkRVh3dTFlmY"
      },
      "execution_count": null,
      "outputs": []
    },
    {
      "cell_type": "markdown",
      "source": [
        "## 2. 다층 퍼셉트론 분류기 만들기 \n",
        "---"
      ],
      "metadata": {
        "id": "q_bn5qAeF6I-"
      }
    },
    {
      "cell_type": "code",
      "source": [
        "import torch\n",
        "import torch.nn as nn\n",
        "from torch import optim"
      ],
      "metadata": {
        "id": "lsa-KyXyF9sC"
      },
      "execution_count": null,
      "outputs": []
    },
    {
      "cell_type": "code",
      "source": [
        "model = nn.Sequential(\n",
        "    nn.Linear(64, 32), # input_layer = 64, hidden_layer1 = 32\n",
        "    nn.ReLU(),\n",
        "    nn.Linear(32, 16), # hidden_layer2 = 32, hidden_layer3 = 16\n",
        "    nn.ReLU(),\n",
        "    nn.Linear(16, 10) # hidden_layer3 = 16, output_layer = 10\n",
        ")"
      ],
      "metadata": {
        "id": "Xs_LclMZGBp1"
      },
      "execution_count": null,
      "outputs": []
    },
    {
      "cell_type": "code",
      "source": [
        "X = torch.tensor(X, dtype=torch.float32)\n",
        "Y = torch.tensor(Y, dtype=torch.int64)"
      ],
      "metadata": {
        "id": "Sme_F0_CGLtr"
      },
      "execution_count": null,
      "outputs": []
    },
    {
      "cell_type": "code",
      "source": [
        "loss_fn = nn.CrossEntropyLoss() # 소프트맥스 함수를 포함하는 비용함수\n",
        "optimizer = optim.Adam(model.parameters())\n",
        "losses = [] "
      ],
      "metadata": {
        "id": "wY1Vl4Y7GTcQ"
      },
      "execution_count": null,
      "outputs": []
    },
    {
      "cell_type": "code",
      "source": [
        "for epoch in range(100):\n",
        "  optimizer.zero_grad()\n",
        "  y_pred = model(X) # forwar 연산\n",
        "  loss = loss_fn(y_pred, Y)\n",
        "  loss.backward()\n",
        "  optimizer.step()\n",
        "\n",
        "  if epoch % 10 == 0:\n",
        "    print('Epoch {:4d}/{} Cost: {:.6f}'.format(\n",
        "            epoch, 100, loss.item()\n",
        "        ))\n",
        "\n",
        "  losses.append(loss.item())\n",
        "\n",
        "# loss 시각화 \n",
        "plt.plot(losses)"
      ],
      "metadata": {
        "id": "od-jK-x7GYE6"
      },
      "execution_count": null,
      "outputs": []
    }
  ]
}