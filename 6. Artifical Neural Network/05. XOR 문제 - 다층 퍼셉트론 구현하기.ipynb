{
 "cells": [
  {
   "cell_type": "markdown",
   "id": "cf1102f5",
   "metadata": {},
   "source": [
    "# 1. 파이토치로 다층퍼셉트론 구현하기"
   ]
  },
  {
   "cell_type": "code",
   "execution_count": 4,
   "id": "8be8c0e6",
   "metadata": {},
   "outputs": [],
   "source": [
    "import torch \n",
    "import torch.nn as nn"
   ]
  },
  {
   "cell_type": "code",
   "execution_count": 5,
   "id": "a9a515fd",
   "metadata": {},
   "outputs": [
    {
     "name": "stdout",
     "output_type": "stream",
     "text": [
      "cpu\n"
     ]
    }
   ],
   "source": [
    "device = 'cuda' if torch.cuda.is_available() else 'cpu'\n",
    "\n",
    "# for reproducibility \n",
    "torch.manual_seed(777)\n",
    "\n",
    "if device == 'cuda':\n",
    "    torch.cuda.manual_seed_all(777)\n",
    "    \n",
    "print(device)"
   ]
  },
  {
   "cell_type": "code",
   "execution_count": 6,
   "id": "bd503f8f",
   "metadata": {},
   "outputs": [],
   "source": [
    "# XOR 문제 정의 \n",
    "\n",
    "X = torch.FloatTensor([[0,0],[0,1],[1,0],[1,1]]).to(device)\n",
    "Y = torch.FloatTensor([[0],[1],[1],[0]]).to(device)"
   ]
  },
  {
   "cell_type": "code",
   "execution_count": 7,
   "id": "20208636",
   "metadata": {},
   "outputs": [],
   "source": [
    "model = nn.Sequential(\n",
    "        nn.Linear(2,10,bias = True), # input_layer = 2, hidden_layer1 - 10\n",
    "        nn.Sigmoid(),\n",
    "        nn.Linear(10,10,bias = True), # hidden layer1 = 10, hidden layer2 = 10\n",
    "        nn.Sigmoid(), \n",
    "        nn.Linear(10,10,bias = True), # hidden_layer2 = 10, hidden_layer3 = 10\n",
    "        nn.Sigmoid(),\n",
    "        nn.Linear(10,1,bias = True), # hidden_layer3 = 10, output_layer = 1\n",
    "        nn.Sigmoid()\n",
    ").to(device)"
   ]
  },
  {
   "cell_type": "markdown",
   "id": "862bd53e",
   "metadata": {},
   "source": [
    "![](Photo/(06-05)1.png)"
   ]
  },
  {
   "cell_type": "code",
   "execution_count": 8,
   "id": "5b2384b4",
   "metadata": {},
   "outputs": [],
   "source": [
    "criterion = torch.nn.BCELoss().to(device) # 이진 분류에 사용하는 크로스엔트로피 함수 (Binary Cross Entropy)\n",
    "optimizer = torch.optim.SGD(model.parameters(), lr = 1) # learning rate 1"
   ]
  },
  {
   "cell_type": "code",
   "execution_count": 11,
   "id": "f8d7c71f",
   "metadata": {},
   "outputs": [
    {
     "name": "stdout",
     "output_type": "stream",
     "text": [
      "0 0.00015657913172617555\n",
      "100 0.00015295758203137666\n",
      "200 0.0001495446776971221\n",
      "300 0.0001462808286305517\n",
      "400 0.00014309149992186576\n",
      "500 0.0001400810433551669\n",
      "600 0.00013717488036490977\n",
      "700 0.00013438798487186432\n",
      "800 0.0001317053975071758\n",
      "900 0.00012909734505228698\n",
      "1000 0.0001266085309907794\n",
      "1100 0.00012422402505762875\n",
      "1200 0.0001218842517118901\n",
      "1300 0.00011969351908192039\n",
      "1400 0.0001175474826595746\n",
      "1500 0.00011544616427272558\n",
      "1600 0.00011344917584210634\n",
      "1700 0.00011149689089506865\n",
      "1800 0.00010963404201902449\n",
      "1900 0.00010777118586702272\n",
      "2000 0.00010604246199363843\n",
      "2100 0.00010431373084429651\n",
      "2200 0.00010265952732879668\n",
      "2300 0.00010109474533237517\n",
      "2400 9.94852525764145e-05\n",
      "2500 9.798008250072598e-05\n",
      "2600 9.650472202338278e-05\n",
      "2700 9.508896619081497e-05\n",
      "2800 9.368812607135624e-05\n",
      "2900 9.236179175786674e-05\n",
      "3000 9.10503658815287e-05\n",
      "3100 8.975384116638452e-05\n",
      "3200 8.854673797031865e-05\n",
      "3300 8.732474088901654e-05\n",
      "3400 8.614744001533836e-05\n",
      "3500 8.498504757881165e-05\n",
      "3600 8.385245746467263e-05\n",
      "3700 8.276457811007276e-05\n",
      "3800 8.169159991666675e-05\n",
      "3900 8.06633397587575e-05\n",
      "4000 7.967977580847219e-05\n",
      "4100 7.869621913414448e-05\n",
      "4200 7.769776857458055e-05\n",
      "4300 7.674401422264054e-05\n",
      "4400 7.5864780228585e-05\n",
      "4500 7.492593431379646e-05\n",
      "4600 7.4076495366171e-05\n",
      "4700 7.319726864807308e-05\n",
      "4800 7.237763202283531e-05\n",
      "4900 7.152820762712508e-05\n",
      "5000 7.075329631334171e-05\n",
      "5100 6.99783704476431e-05\n",
      "5200 6.917364953551441e-05\n",
      "5300 6.842854782007635e-05\n",
      "5400 6.771324115106836e-05\n",
      "5500 6.696812488371506e-05\n",
      "5600 6.626772665185854e-05\n",
      "5700 6.555241998285055e-05\n",
      "5800 6.488182407338172e-05\n",
      "5900 6.421122816391289e-05\n",
      "6000 6.357043457683176e-05\n",
      "6100 6.294454215094447e-05\n",
      "6200 6.227394624147564e-05\n",
      "6300 6.169276457512751e-05\n",
      "6400 6.106687942519784e-05\n",
      "6500 6.04856941208709e-05\n",
      "6600 5.988961493130773e-05\n",
      "6700 5.9308433264959604e-05\n",
      "6800 5.875705392099917e-05\n",
      "6900 5.82205830141902e-05\n",
      "7000 5.7684112107381225e-05\n",
      "7100 5.714763392461464e-05\n",
      "7200 5.6611163017805666e-05\n",
      "7300 5.6134296755772084e-05\n",
      "7400 5.562762817135081e-05\n",
      "7500 5.5091157264541835e-05\n",
      "7600 5.461429100250825e-05\n",
      "7700 5.415232590166852e-05\n",
      "7800 5.3660565754398704e-05\n",
      "7900 5.3198604291537777e-05\n",
      "8000 5.278134631225839e-05\n",
      "8100 5.231938848737627e-05\n",
      "8200 5.187232818570919e-05\n",
      "8300 5.144017268321477e-05\n",
      "8400 5.102291834191419e-05\n",
      "8500 5.059076283941977e-05\n",
      "8600 5.018840965931304e-05\n",
      "8700 4.9756254156818613e-05\n",
      "8800 4.938370329909958e-05\n",
      "8900 4.898135011899285e-05\n",
      "9000 4.8593901738058776e-05\n",
      "9100 4.820645699510351e-05\n",
      "9200 4.784880729857832e-05\n",
      "9300 4.746135891764425e-05\n",
      "9400 4.711861765827052e-05\n",
      "9500 4.674606680055149e-05\n",
      "9600 4.638842074200511e-05\n",
      "9700 4.6045679482631385e-05\n",
      "9800 4.570293822325766e-05\n",
      "9900 4.536019332590513e-05\n",
      "10000 4.50174484285526e-05\n"
     ]
    }
   ],
   "source": [
    "for epoch in range(10001): \n",
    "    hypothesis = model(X) # forward 연산 (모델의 예측값 확인 )\n",
    "    \n",
    "    cost = criterion(hypothesis, Y)\n",
    "    optimizer.zero_grad()\n",
    "    cost.backward() # computes the gradient of current tencor \n",
    "    optimizer.step() # backward 연산 \n",
    "    \n",
    "    # 100의 배수에 해당되는 epoch마다 비용 출력\n",
    "    if epoch % 100 == 0:\n",
    "        print(epoch, cost.item())"
   ]
  },
  {
   "cell_type": "markdown",
   "id": "75482bf0",
   "metadata": {},
   "source": [
    "# 2. 학습된 다층 퍼셉트론의 예측값 확인하기"
   ]
  },
  {
   "cell_type": "code",
   "execution_count": 10,
   "id": "51535efb",
   "metadata": {},
   "outputs": [
    {
     "name": "stdout",
     "output_type": "stream",
     "text": [
      "모델의 출력값: [[1.11739784e-04]\n",
      " [9.99828696e-01]\n",
      " [9.99842167e-01]\n",
      " [1.85383164e-04]]\n",
      "모델의 예측값: [[0.]\n",
      " [1.]\n",
      " [1.]\n",
      " [0.]]\n",
      "실제값: [[0.]\n",
      " [1.]\n",
      " [1.]\n",
      " [0.]]\n",
      "정확도: 1.0\n"
     ]
    }
   ],
   "source": [
    "with torch.no_grad():\n",
    "    hypothesis = model(X)\n",
    "    predicted = (hypothesis > 0.5).float()\n",
    "    accuracy = (predicted == Y).float().mean()\n",
    "    \n",
    "    print(f\"모델의 출력값: {hypothesis.detach().cpu().numpy()}\")\n",
    "    print(f\"모델의 예측값: {predicted.detach().cpu().numpy()}\")\n",
    "    print(f\"실제값: {Y.cpu().numpy()}\")\n",
    "    print(f\"정확도: {accuracy.item()}\")"
   ]
  }
 ],
 "metadata": {
  "kernelspec": {
   "display_name": "Python 3 (ipykernel)",
   "language": "python",
   "name": "python3"
  },
  "language_info": {
   "codemirror_mode": {
    "name": "ipython",
    "version": 3
   },
   "file_extension": ".py",
   "mimetype": "text/x-python",
   "name": "python",
   "nbconvert_exporter": "python",
   "pygments_lexer": "ipython3",
   "version": "3.9.7"
  }
 },
 "nbformat": 4,
 "nbformat_minor": 5
}
