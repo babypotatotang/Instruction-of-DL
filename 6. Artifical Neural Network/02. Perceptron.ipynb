{
 "cells": [
  {
   "cell_type": "markdown",
   "metadata": {},
   "source": [
    "## **02. 퍼셉트론**\n",
    "---"
   ]
  },
  {
   "cell_type": "markdown",
   "metadata": {},
   "source": [
    "### **(1) 퍼셉트론(Perceptron)**\n",
    "- 초기 형태의 인공신경망으로 다수 입력으로부터 하나의 결과를 내는 알고리즘\n",
    "- 실제 뇌를 구성하는 신경 세포 뉴런의 동작과 유사\n",
    "- 각 입력값이 가중치와 곱해져서 인공뉴런에 보내지고, 각 입력값과 그에 해당되는 곱의 전체 합이 **임계치(threshold)**를 넘으면 1을, 아니면 0을 출력함 => **계단함수 (Step Function)**"
   ]
  },
  {
   "cell_type": "markdown",
   "metadata": {},
   "source": [
    "### **(2) 단층 퍼셉트론(Single-Layer Perceptron)**\n",
    "- 구성: input layer, output layer\n",
    "- 단층 퍼셉트론을 사용하면 AND, NAND, OR 게이트를 쉽게 구현"
   ]
  },
  {
   "cell_type": "code",
   "execution_count": 3,
   "metadata": {},
   "outputs": [],
   "source": [
    "def AND_GATE(x1,x2):\n",
    "    w1 = 0.5; w2 = 0.5\n",
    "    b = -0.7\n",
    "    result = x1*w1 + x2*w2 + b\n",
    "    if result <= 0 : return 0 \n",
    "    else: return 1 "
   ]
  },
  {
   "cell_type": "code",
   "execution_count": 4,
   "metadata": {},
   "outputs": [
    {
     "data": {
      "text/plain": [
       "(0, 0, 0, 1)"
      ]
     },
     "execution_count": 4,
     "metadata": {},
     "output_type": "execute_result"
    }
   ],
   "source": [
    "AND_GATE(0,0), AND_GATE(0,1), AND_GATE(1,0), AND_GATE(1,1)"
   ]
  },
  {
   "cell_type": "code",
   "execution_count": 5,
   "metadata": {},
   "outputs": [],
   "source": [
    "def NAND_GATE(x1,x2):\n",
    "    w1 = -0.5\n",
    "    w2 = -0.5\n",
    "    b = 0.7\n",
    "    result = x1*w1 + x2*w2 + b\n",
    "    if result <= 0: return 0 \n",
    "    else: return 1"
   ]
  },
  {
   "cell_type": "code",
   "execution_count": 6,
   "metadata": {},
   "outputs": [
    {
     "data": {
      "text/plain": [
       "(1, 1, 1, 0)"
      ]
     },
     "execution_count": 6,
     "metadata": {},
     "output_type": "execute_result"
    }
   ],
   "source": [
    "NAND_GATE(0,0), NAND_GATE(0,1), NAND_GATE(1,0), NAND_GATE(1,1)"
   ]
  },
  {
   "cell_type": "code",
   "execution_count": 7,
   "metadata": {},
   "outputs": [],
   "source": [
    "def OR_GATE(x1,x2):\n",
    "    w1 = 0.6; w2=0.6\n",
    "    b = -0.5\n",
    "    result = x1*w1 + x2*w2 + b\n",
    "    if result <=0: return 0\n",
    "    else: return 1"
   ]
  },
  {
   "cell_type": "code",
   "execution_count": 8,
   "metadata": {},
   "outputs": [
    {
     "data": {
      "text/plain": [
       "(0, 1, 1, 1)"
      ]
     },
     "execution_count": 8,
     "metadata": {},
     "output_type": "execute_result"
    }
   ],
   "source": [
    "OR_GATE(0,0), OR_GATE(0,1), OR_GATE(1,0), OR_GATE(1,1)"
   ]
  },
  {
   "cell_type": "markdown",
   "metadata": {},
   "source": [
    "* XOR 게이트의 경우 입력값 두 개가 서로 다른 값을 갖고 있을때만 출력값이 1이 되고, 입력값 두 개가 서로 같은 값을 가지면 출력값이 0이 되는 게이트\n",
    "* 단층 퍼셉트론으로 XOR 게이트를 구현하는 것이 불가능함 \n",
    "    * 단층 퍼셉트론은 선형 영역에 대해서만 분리가 가능 \n",
    "    * XOR 게이트는 직선이 아닌 곡선, 비선형 영역"
   ]
  },
  {
   "cell_type": "markdown",
   "metadata": {},
   "source": [
    "### **(3) 다층 퍼셉트론(MultiLayer Perceptron)**\n",
    "- 단층 퍼셉트론은 입력층과 출력층만 존재하지만, 다층 퍼셉트론은 중간에 층을 더 추가했음 \n",
    "- 추가된 층을 **은닉층(hidden layer)** 이라고 함\n",
    "- 다층 퍼셉트론은 줄여서 MLP라고도 부름 "
   ]
  },
  {
   "cell_type": "markdown",
   "metadata": {},
   "source": [
    "#### XOR Gate\n",
    "* 위의 XOR Gate의 경우 NAND, OR Gate를 은닉층으로 두었을때 해결할 수 있음. "
   ]
  },
  {
   "cell_type": "code",
   "execution_count": 11,
   "metadata": {},
   "outputs": [],
   "source": [
    "def XOR_GATE(x1,x2):\n",
    "    # 은닉층 두개\n",
    "    s1 = NAND_GATE(x1,x2)\n",
    "    s2 = OR_GATE(x1,x2)\n",
    "\n",
    "    return AND_GATE(s1,s2)"
   ]
  },
  {
   "cell_type": "code",
   "execution_count": 12,
   "metadata": {},
   "outputs": [
    {
     "data": {
      "text/plain": [
       "(0, 1, 1, 0)"
      ]
     },
     "execution_count": 12,
     "metadata": {},
     "output_type": "execute_result"
    }
   ],
   "source": [
    "XOR_GATE(0,0), XOR_GATE(0,1), XOR_GATE(1,0), XOR_GATE(1,1)"
   ]
  },
  {
   "cell_type": "markdown",
   "metadata": {},
   "source": [
    "* 위와 같이 은닉층이 2개 이상인 신경망을 **심층 신경망(Deep Neural Network, DNN)**이라고 함\n",
    "* 심층 신경망은 다층 퍼셉트론만 이야기하는 것이 아니라, 여러 변형된 다양한 신경망들도 은닉층이 2개 이상이 되면 싱층신경망이라고 함. \n",
    "* 기계가 가중치를 스스로 찾아내도록 자동화시키는 **학습(training)**의 단계를 거치고, 이때 심층 신경망을 학습시키는 경우 **딥 러닝(Deep Learning)**이라고 부름."
   ]
  }
 ],
 "metadata": {
  "kernelspec": {
   "display_name": "Python 3.9.13 64-bit (windows store)",
   "language": "python",
   "name": "python3"
  },
  "language_info": {
   "codemirror_mode": {
    "name": "ipython",
    "version": 3
   },
   "file_extension": ".py",
   "mimetype": "text/x-python",
   "name": "python",
   "nbconvert_exporter": "python",
   "pygments_lexer": "ipython3",
   "version": "3.9.13"
  },
  "orig_nbformat": 4,
  "vscode": {
   "interpreter": {
    "hash": "c4ee998c70f70a549d0057c5c83759d1ee0011729abbf2e9d9293192e01b9309"
   }
  }
 },
 "nbformat": 4,
 "nbformat_minor": 2
}
