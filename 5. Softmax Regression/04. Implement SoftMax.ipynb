{
 "cells": [
  {
   "cell_type": "markdown",
   "metadata": {},
   "source": [
    "# **04. 소프트맥스 회귀 구현하기**\n",
    "---\n",
    "* 이번 챕터에서는 소프트맥스 회귀로 로우-레벨과 `F.cross_entropy`를 사용해서 구현. "
   ]
  },
  {
   "cell_type": "code",
   "execution_count": 1,
   "metadata": {},
   "outputs": [],
   "source": [
    "import torch\n",
    "import torch.nn as nn\n",
    "import torch.nn.functional as F\n",
    "import torch.optim as optim"
   ]
  },
  {
   "cell_type": "code",
   "execution_count": 2,
   "metadata": {},
   "outputs": [
    {
     "data": {
      "text/plain": [
       "<torch._C.Generator at 0x24dbbcd8450>"
      ]
     },
     "execution_count": 2,
     "metadata": {},
     "output_type": "execute_result"
    }
   ],
   "source": [
    "torch.manual_seed(1)"
   ]
  },
  {
   "cell_type": "code",
   "execution_count": 3,
   "metadata": {},
   "outputs": [],
   "source": [
    "x_train = [[1,2,1,1],\n",
    "           [2,1,3,2],\n",
    "           [3,1,3,4],\n",
    "           [4,1,5,5],\n",
    "           [1,7,5,5],\n",
    "           [1,2,5,6],\n",
    "           [1,6,6,6],\n",
    "           [1,7,7,7]]\n",
    "y_train = [2,2,2,1,1,1,0,0]\n",
    "x_train = torch.FloatTensor(x_train)\n",
    "y_train = torch.LongTensor(y_train)"
   ]
  },
  {
   "cell_type": "markdown",
   "metadata": {},
   "source": [
    "* x_train의 각 샘플은 4개의 특성을 가지고 있으며, 총 8개의 샘플이 존재함. \n",
    "* y_train은 각 샘플에 대한 레이블로 3개의 클래스 (0,1,2)로 구성됨. "
   ]
  },
  {
   "cell_type": "markdown",
   "metadata": {},
   "source": [
    "## **1. 소프트맥스 회귀 구현하기(로우-레벨)**"
   ]
  },
  {
   "cell_type": "code",
   "execution_count": 4,
   "metadata": {},
   "outputs": [
    {
     "name": "stdout",
     "output_type": "stream",
     "text": [
      "torch.Size([8, 4])\n",
      "torch.Size([8])\n"
     ]
    }
   ],
   "source": [
    "print(x_train.shape)\n",
    "print(y_train.shape)"
   ]
  },
  {
   "cell_type": "code",
   "execution_count": 5,
   "metadata": {},
   "outputs": [
    {
     "name": "stdout",
     "output_type": "stream",
     "text": [
      "torch.Size([8, 3])\n"
     ]
    }
   ],
   "source": [
    "# y_train 원핫 인코딩\n",
    "y_one_hot = torch.zeros(8,3)\n",
    "y_one_hot.scatter_(1,y_train.unsqueeze(1),1)\n",
    "print(y_one_hot.shape)"
   ]
  },
  {
   "cell_type": "code",
   "execution_count": 8,
   "metadata": {},
   "outputs": [],
   "source": [
    "'''\n",
    "W 행렬의 크기는 4(특성) * 3(클래스)\n",
    "1. 모델 초기화 \n",
    "'''\n",
    "\n",
    "W = torch.zeros((4,3),requires_grad=True)\n",
    "b = torch.zeros(1,requires_grad=True)\n",
    "\n",
    "'''\n",
    "optimizer 설정\n",
    "'''\n",
    "optimizer = optim.SGD([W,b],lr =0.1)"
   ]
  },
  {
   "cell_type": "code",
   "execution_count": 9,
   "metadata": {},
   "outputs": [
    {
     "name": "stdout",
     "output_type": "stream",
     "text": [
      "Epoch    0/1000 Cost 1.098612\n",
      "Epoch  100/1000 Cost 0.761050\n",
      "Epoch  200/1000 Cost 0.689991\n",
      "Epoch  300/1000 Cost 0.643229\n",
      "Epoch  400/1000 Cost 0.604117\n",
      "Epoch  500/1000 Cost 0.568255\n",
      "Epoch  600/1000 Cost 0.533922\n",
      "Epoch  700/1000 Cost 0.500291\n",
      "Epoch  800/1000 Cost 0.466908\n",
      "Epoch  900/1000 Cost 0.433507\n",
      "Epoch 1000/1000 Cost 0.399962\n"
     ]
    }
   ],
   "source": [
    "nb_epochs = 1000\n",
    "for epoch in range(nb_epochs+1):\n",
    "    # 가설\n",
    "    hypothesis = F.softmax(x_train.matmul(W)+b,dim=1)\n",
    "\n",
    "    # 비용 함수\n",
    "    cost = (y_one_hot * -torch.log(hypothesis)).sum(dim=1).mean()\n",
    "\n",
    "    # cost로 H(x) 개선 \n",
    "    optimizer.zero_grad()\n",
    "    cost.backward()\n",
    "    optimizer.step()\n",
    "\n",
    "    if epoch % 100 == 0:\n",
    "        print('Epoch {:4d}/{} Cost {:6f}'.format(epoch, nb_epochs, cost.item()))"
   ]
  },
  {
   "cell_type": "markdown",
   "metadata": {},
   "source": [
    "## **2. 소프트맥스 회귀 구현하기(하이-레벨)**\n",
    "---\n",
    "* `F.cross_entropy()`를 사용하며 비용함수 구현 "
   ]
  },
  {
   "cell_type": "code",
   "execution_count": 10,
   "metadata": {},
   "outputs": [
    {
     "name": "stdout",
     "output_type": "stream",
     "text": [
      "Epoch    0 / 1000 Cost: 1.098612\n",
      "Epoch  100 / 1000 Cost: 0.761050\n",
      "Epoch  200 / 1000 Cost: 0.689991\n",
      "Epoch  300 / 1000 Cost: 0.643229\n",
      "Epoch  400 / 1000 Cost: 0.604117\n",
      "Epoch  500 / 1000 Cost: 0.568255\n",
      "Epoch  600 / 1000 Cost: 0.533922\n",
      "Epoch  700 / 1000 Cost: 0.500291\n",
      "Epoch  800 / 1000 Cost: 0.466908\n",
      "Epoch  900 / 1000 Cost: 0.433507\n",
      "Epoch 1000 / 1000 Cost: 0.399962\n"
     ]
    }
   ],
   "source": [
    "# 모델 초기화\n",
    "W = torch.zeros((4,3), requires_grad=True)\n",
    "b = torch.zeros(1,requires_grad=True)\n",
    "# optimizer 설정\n",
    "optimizer = optim.SGD([W,b],lr=0.1)\n",
    "\n",
    "nb_epochs = 1000\n",
    "for epoch in range(nb_epochs+1):\n",
    "    # Cost 계산\n",
    "    z = x_train.matmul(W)+b\n",
    "    cost = F.cross_entropy(z,y_train)\n",
    "\n",
    "    # cost로 H(x) 개선 \n",
    "    optimizer.zero_grad()\n",
    "    cost.backward()\n",
    "    optimizer.step()\n",
    "\n",
    "    if epoch % 100 == 0:\n",
    "        print('Epoch {:4d} / {} Cost: {:6f}'.format(epoch, nb_epochs, cost.item()))"
   ]
  },
  {
   "cell_type": "markdown",
   "metadata": {},
   "source": [
    "## **3. 소프트맥스 회귀 nn.Module로 구현하기**\n",
    "---\n",
    "* `nn.Module` 중 선형회귀 구현에 사용했던 `nn.Linear()`을 사용\n",
    "* output_dim은 클래스의 개수(3)를 고려해야함."
   ]
  },
  {
   "cell_type": "code",
   "execution_count": 12,
   "metadata": {},
   "outputs": [],
   "source": [
    "# 모델을 선언 및 초기화. 4개의 특성을 가지고 3개의 클래스로 분류\n",
    "model = nn.Linear(4,3)"
   ]
  },
  {
   "cell_type": "code",
   "execution_count": 13,
   "metadata": {},
   "outputs": [
    {
     "name": "stdout",
     "output_type": "stream",
     "text": [
      "Epoch    0 / 1000 Cost: 1.616785\n",
      "Epoch  100 / 1000 Cost: 0.658891\n",
      "Epoch  200 / 1000 Cost: 0.573444\n",
      "Epoch  300 / 1000 Cost: 0.518151\n",
      "Epoch  400 / 1000 Cost: 0.473266\n",
      "Epoch  500 / 1000 Cost: 0.433516\n",
      "Epoch  600 / 1000 Cost: 0.396563\n",
      "Epoch  700 / 1000 Cost: 0.360914\n",
      "Epoch  800 / 1000 Cost: 0.325392\n",
      "Epoch  900 / 1000 Cost: 0.289178\n",
      "Epoch 1000 / 1000 Cost: 0.254148\n"
     ]
    }
   ],
   "source": [
    "# optimizer 설정\n",
    "optimizer = optim.SGD(model.parameters(), lr=0.1)\n",
    "\n",
    "nb_epochs = 1000\n",
    "for epoch in range(nb_epochs+1):\n",
    "    \n",
    "    # H(x) 계산\n",
    "    prediction = model(x_train)\n",
    "\n",
    "    # cost 계산\n",
    "    cost = F.cross_entropy(prediction, y_train)\n",
    "\n",
    "    # cost로 H(x) 개선 \n",
    "    optimizer.zero_grad()\n",
    "    cost.backward()\n",
    "    optimizer.step()\n",
    "\n",
    "    if epoch % 100 == 0:\n",
    "        print('Epoch {:4d} / {} Cost: {:6f}'.format(epoch, nb_epochs, cost.item()))"
   ]
  },
  {
   "cell_type": "markdown",
   "metadata": {},
   "source": [
    "## **4. 소프트맥스 회귀 클래스로 구현하기**\n",
    "---\n",
    "* 소프트맥스 회귀를 `nn.Module`을 상속받은 클래스로 구현하기"
   ]
  },
  {
   "cell_type": "code",
   "execution_count": 14,
   "metadata": {},
   "outputs": [],
   "source": [
    "class SoftmaxClassifierModel(nn.Module):\n",
    "    def __init__(self):\n",
    "        super().__init__()\n",
    "        self.linear = nn.Linear(4,3) \n",
    "    def forward(self,x):\n",
    "        return self.linear(x)"
   ]
  },
  {
   "cell_type": "code",
   "execution_count": 15,
   "metadata": {},
   "outputs": [],
   "source": [
    "model = SoftmaxClassifierModel()"
   ]
  },
  {
   "cell_type": "code",
   "execution_count": 16,
   "metadata": {},
   "outputs": [
    {
     "name": "stdout",
     "output_type": "stream",
     "text": [
      "Epoch    0 / 1000 Cost: 2.637636\n",
      "Epoch  100 / 1000 Cost: 0.647903\n",
      "Epoch  200 / 1000 Cost: 0.564643\n",
      "Epoch  300 / 1000 Cost: 0.511043\n",
      "Epoch  400 / 1000 Cost: 0.467249\n",
      "Epoch  500 / 1000 Cost: 0.428281\n",
      "Epoch  600 / 1000 Cost: 0.391924\n",
      "Epoch  700 / 1000 Cost: 0.356742\n",
      "Epoch  800 / 1000 Cost: 0.321577\n",
      "Epoch  900 / 1000 Cost: 0.285617\n",
      "Epoch 1000 / 1000 Cost: 0.250818\n"
     ]
    }
   ],
   "source": [
    "# optimizer 설정\n",
    "optimizer = optim.SGD(model.parameters(), lr = 0.1)\n",
    "\n",
    "nb_epochs = 1000\n",
    "for epoch in range(nb_epochs+1):\n",
    "    # H(x) 계산\n",
    "    prediction = model(x_train)\n",
    "\n",
    "    # cost 계산 \n",
    "    cost = F.cross_entropy(prediction,y_train)\n",
    "\n",
    "    # cost로 H(x) 개선 \n",
    "    optimizer.zero_grad()\n",
    "    cost.backward()\n",
    "    optimizer.step()\n",
    "\n",
    "    if epoch % 100 == 0:\n",
    "        print('Epoch {:4d} / {} Cost: {:6f}'.format(epoch, nb_epochs, cost.item()))"
   ]
  }
 ],
 "metadata": {
  "kernelspec": {
   "display_name": "Python 3.7.13 ('deeplearning')",
   "language": "python",
   "name": "python3"
  },
  "language_info": {
   "codemirror_mode": {
    "name": "ipython",
    "version": 3
   },
   "file_extension": ".py",
   "mimetype": "text/x-python",
   "name": "python",
   "nbconvert_exporter": "python",
   "pygments_lexer": "ipython3",
   "version": "3.7.13"
  },
  "orig_nbformat": 4,
  "vscode": {
   "interpreter": {
    "hash": "33bb709aa52d0f1c012e153b74c2c585d1723b1d162db1a778a7381b9d9efdce"
   }
  }
 },
 "nbformat": 4,
 "nbformat_minor": 2
}
