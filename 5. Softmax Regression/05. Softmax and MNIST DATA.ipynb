{
  "cells": [
    {
      "cell_type": "markdown",
      "metadata": {
        "id": "wlicj1lCDEZc"
      },
      "source": [
        "## **05. 소프트맥스 회귀로 MNIST 데이터 분류하기**\n",
        "---\n",
        "이번에는 MNIST 데이터에 대해서 이해하고, PYTORCH로 소프트맥스 회귀를 구현하여 분류하는 실습을 진행해보자. "
      ]
    },
    {
      "cell_type": "markdown",
      "metadata": {
        "id": "9Cv-NnmmDRMm"
      },
      "source": [
        "### **01. MNIST 데이터 이해하기**"
      ]
    },
    {
      "cell_type": "markdown",
      "metadata": {
        "id": "-XS6w7Q0DXwu"
      },
      "source": [
        "* MNIST는 숫자 0부터 9까지의 **이미지**로 구성된 손글씨 데이터셋\n",
        "* 과거 우체국에서 편지의 우편 번호를 인식하기 위해 만들어진 훈련 데이터\n",
        "* 총 60,000개의 훈련데이터와 레이블, 총 10,000여개의 테스트 데이터와 레이블로 구성\n",
        "* MNIST 문제는 **손글씨로 적힌 숫자 이미가 들어오면, 그 이미지가 무슨 숫자인지** 맞추는 문제임."
      ]
    },
    {
      "cell_type": "code",
      "execution_count": null,
      "metadata": {
        "id": "d9iIgay3YR7O"
      },
      "outputs": [],
      "source": [
        "for X,Y in data_loader:\n",
        "    # 입력 이미지를 [batch_size * 784]의 크기로 reshape\n",
        "    # 레이블은 원-핫 인코딩\n",
        "    X = X.view(-1,28*28)\n",
        "    # view를 통해서 (배치크기 * 784)로 크기 변환 \n",
        "    # 원래는 (배치크기 * 1 * 28 * 28)"
      ]
    },
    {
      "cell_type": "markdown",
      "metadata": {
        "id": "6vlYyCJ8D7tX"
      },
      "source": [
        "### **02. 토치비전(torchvision) 소개하기**\n",
        "* `torchvision`\n",
        "    * cv 분야에 유명한 데이터셋, 이미 구현되어있는 유명한 모델들과 이미지 전처리 도구를 포함하는 패키지"
      ]
    },
    {
      "cell_type": "markdown",
      "metadata": {
        "id": "_sULupXeIeSE"
      },
      "source": [
        "### **03. 분류기 구현을 위한 사전 설정**"
      ]
    },
    {
      "cell_type": "markdown",
      "metadata": {
        "id": "NswTsNVMIhps"
      },
      "source": [
        "#### **import library**"
      ]
    },
    {
      "cell_type": "code",
      "execution_count": null,
      "metadata": {
        "id": "WS-wtm4UInRK"
      },
      "outputs": [],
      "source": [
        "import torch\n",
        "import torchvision.datasets as dsets\n",
        "import torchvision.transforms as transforms\n",
        "from torch.utils.data import DataLoader\n",
        "import torch.nn as nn\n",
        "import matplotlib.pyplot as plt\n",
        "import random"
      ]
    },
    {
      "cell_type": "markdown",
      "metadata": {
        "id": "IjFF54dAIzNu"
      },
      "source": [
        "#### **Set GPU and Seed**"
      ]
    },
    {
      "cell_type": "code",
      "execution_count": null,
      "metadata": {
        "id": "ljtjWVzXI2V-"
      },
      "outputs": [],
      "source": [
        "USE_CUDA = torch.cuda.is_available() # gpu 사용 가능하면 true or false\n",
        "device = torch.device(\"cuda\" if USE_CUDA else \"cpu\")\n",
        "print(\"다음 기기로 학습합니다.\",device)"
      ]
    },
    {
      "cell_type": "code",
      "execution_count": null,
      "metadata": {
        "id": "4bhZGkAeJGc4"
      },
      "outputs": [],
      "source": [
        "# 랜덤 시드 고정\n",
        "random.seed(777)\n",
        "torch.manual_seed(777)\n",
        "\n",
        "if device == 'cuda':\n",
        "    torch.cuda.manual_seed_all(777)"
      ]
    },
    {
      "cell_type": "markdown",
      "metadata": {
        "id": "2BoTtd4zJdvB"
      },
      "source": [
        "#### **Hyperparameter**"
      ]
    },
    {
      "cell_type": "code",
      "execution_count": null,
      "metadata": {
        "id": "mOK5HNZjJgkm"
      },
      "outputs": [],
      "source": [
        "training_epochs = 15\n",
        "batch_size = 100"
      ]
    },
    {
      "cell_type": "markdown",
      "metadata": {
        "id": "VwfaCmyJJj7-"
      },
      "source": [
        "### **04. MNIST 분류기 구현하기**"
      ]
    },
    {
      "cell_type": "markdown",
      "metadata": {
        "id": "SUuARmjeKZWi"
      },
      "source": [
        "#### **(1) 데이터 불러오기**\n",
        "`torchvision`을 통해서 MNIST 데이터셋 불러오기\n",
        "* root : MNIST 데이터를 다운받을 경로\n",
        "* train = True: 훈련 데이터 or 테스트 데이터\n",
        "* transform : 파이토치 텐서로 변환\n",
        "* download: 해당 경로에 데이터가 없다면 다운"
      ]
    },
    {
      "cell_type": "code",
      "execution_count": null,
      "metadata": {
        "id": "fVA8_PPRJwV1"
      },
      "outputs": [],
      "source": [
        "#MNIST dataset\n",
        "mnist_train = dsets.MNIST(root = 'MNIST_data/', \n",
        "                          train = True, \n",
        "                          transform = transforms.ToTensor(), \n",
        "                          download=True) \n",
        "mnist_test = dsets.MNIST(root = 'MNIST_data/',\n",
        "                         train = False,\n",
        "                         transform = transforms.ToTensor(),\n",
        "                         download = True)"
      ]
    },
    {
      "cell_type": "markdown",
      "metadata": {
        "id": "nWd3NUYOSd8Q"
      },
      "source": [
        "#### **(2) 데이터로더 선언**\n",
        "* `dataset` : 로드할 대상\n",
        "* `batch_size` : 배치 크기\n",
        "* `shuffle` : 매 에포크마다 미니 배치를 셔플할 것인지의 여부 (bool) \n",
        "* `drop_last` : 마지막 배치를 버릴 것인지 의미 \n",
        "    * 1000개의 데이터, 배치 크기가 128이라고 했을때, 1000을 128로 나누면 총 7개가 나오고, 나머지 104개가 남음\n",
        "    * 104개로 마지막 배치를 한다고 하면 128개(기존 배치 사이즈)을 충족하지 못함. \n",
        "    * 이때 남은 104개를 버릴지 말지를 결정하는 hyperparameter가 `drop_last = True`임 .\n",
        "    * 이는 다른 미니배치보다 개수가 적은 마지막 배치를 경사하강법에 사용하여 Overfitting 현상을 막는 효과를 낼 수 있음. "
      ]
    },
    {
      "cell_type": "code",
      "execution_count": null,
      "metadata": {
        "id": "MO6wvw8sSQV1"
      },
      "outputs": [],
      "source": [
        "# dataset loader\n",
        "data_loader = DataLoader(dataset = mnist_train,\n",
        "                         batch_size = batch_size,\n",
        "                         shuffle = True,\n",
        "                         drop_last = True)"
      ]
    },
    {
      "cell_type": "markdown",
      "metadata": {
        "id": "pDWt7WlATigt"
      },
      "source": [
        "#### **(3) 모델 설계**\n",
        "* `to()` 함수를 사용하여 모델의 매개변수를 지정한 장치의 메모리로 보냄.\n",
        "* cpu의 경우 필수는 아니지만, gpu의 경우 `to(device)`를 꼭 해줘야함. "
      ]
    },
    {
      "cell_type": "code",
      "execution_count": null,
      "metadata": {
        "id": "cILA0LtGSQYF"
      },
      "outputs": [],
      "source": [
        "# MNIST data image of shape 28 * 28 = 784\n",
        "linear = nn.Linear(784, 10, bias = True).to(device)"
      ]
    },
    {
      "cell_type": "markdown",
      "metadata": {
        "id": "4xky-vAET-cu"
      },
      "source": [
        "#### **(4) 비용함수와 옵티마이저 정의**"
      ]
    },
    {
      "cell_type": "code",
      "execution_count": null,
      "metadata": {
        "id": "US4ddjg2UB-2"
      },
      "outputs": [],
      "source": [
        "criterion = nn.CrossEntropyLoss().to(device) # 내부적으로 소프트맥스 함수 포함\n",
        "optimizer = torch.optim.SGD(linear.parameters(), lr = 0.1)"
      ]
    },
    {
      "cell_type": "markdown",
      "metadata": {
        "id": "itlYCqTpUVTl"
      },
      "source": [
        "#### **(5) 학습**"
      ]
    },
    {
      "cell_type": "code",
      "execution_count": null,
      "metadata": {
        "id": "SL7CxTb3UiER"
      },
      "outputs": [],
      "source": [
        "for epoch in range(training_epochs): # 15\n",
        "    avg_cost = 0 \n",
        "    total_batch = len(data_loader)\n",
        "\n",
        "    for X, Y in data_loader:\n",
        "        # 배치 크기가 100이므로 아래의 연산에서 X는 (100,784)의 텐서가 된다. \n",
        "        X = X.view(-1,28*28).to(device)\n",
        "        # 레이블은 원-핫 인코딩이 된 상태가 아니라 0~9의 정수\n",
        "        Y = Y.to(device)\n",
        "        # 가설, 비용 선언 \n",
        "        hypothesis = linear(X)\n",
        "        cost = criterion(hypothesis,Y)\n",
        "        \n",
        "        # 갱신 과정 \n",
        "        optimizer.zero_grad()\n",
        "        cost.backward()\n",
        "        optimizer.step()\n",
        "\n",
        "        avg_cost += cost/total_batch\n",
        "\n",
        "    print('Epoch: ', '%04d' %(epoch + 1), 'cost = ','{:9f}'.format(avg_cost))\n",
        "\n",
        "print(\"Learning finished\")"
      ]
    },
    {
      "cell_type": "markdown",
      "metadata": {
        "id": "6jrBoXq2WTQw"
      },
      "source": [
        "#### **(6) 테스트데이터를 사용하여 모델 테스트**"
      ]
    },
    {
      "cell_type": "code",
      "execution_count": null,
      "metadata": {
        "id": "WnhvHV75WSvd"
      },
      "outputs": [],
      "source": [
        "with torch.no_grad(): # gradient 계산을 수행하지 않음\n",
        "    X_test = mnist_test.test_data.view(-1,28*28).float().to(device)\n",
        "    Y_test = mnist_test.test_labels.to(device)\n",
        "\n",
        "    prediction = linear(X_test)\n",
        "    correct_prediction = torch.argmax(prediction,1) == Y_test\n",
        "    accuracy = correct_prediction.float().mean()\n",
        "\n",
        "    print('Accuracy:', accuracy.item())\n",
        "\n",
        "    # MNIST 테스트 데이터에서 무작위로 하나를 뽑아서 예측\n",
        "    r = random.randint(0,len(mnist_test)-1)\n",
        "    X_single_data = mnist_test.test_data[r:r+1].view(-1,28*28).float().to(device)\n",
        "    Y_single_data = mnist_test.test_labels[r:r+1].to(device)\n",
        "\n",
        "    print('Label: ', Y_single_data.item())\n",
        "    single_prediction = linear(X_single_data)\n",
        "    print('Prediction: ', torch.argmax(single_prediction,1).item())\n",
        "\n",
        "    plt.imshow(mnist_test.test_data[r:r+1].view(28,28),cmap='Greys',interpolation = 'nearest')\n",
        "    plt.show()                                                             "
      ]
    }
  ],
  "metadata": {
    "colab": {
      "name": "Untitled0.ipynb",
      "private_outputs": true,
      "provenance": []
    },
    "kernelspec": {
      "display_name": "Python 3.9.5 64-bit",
      "language": "python",
      "name": "python3"
    },
    "language_info": {
      "name": "python",
      "version": "3.9.5"
    },
    "vscode": {
      "interpreter": {
        "hash": "15d62748266f8ea3611532b4892b57da5cd2aa28e021beffc1d944f2abb52c0e"
      }
    }
  },
  "nbformat": 4,
  "nbformat_minor": 0
}
