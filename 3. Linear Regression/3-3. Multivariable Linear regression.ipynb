{
 "cells": [
  {
   "cell_type": "markdown",
   "metadata": {},
   "source": [
    "# **<u>3. 다중선형회귀(Multivariable Linear Regression) </u>**\n",
    "* $x$가 1개인 선형회귀를 단순 선형회귀라고 함. \n",
    "* 이번 챕터에서는 다수의 $x$로부터 $y$를 예측하는 **다중선형회귀**에 대해서 학습"
   ]
  },
  {
   "cell_type": "markdown",
   "metadata": {},
   "source": [
    "## **1.데이터에 대한 이해(Data Definition)**\n",
    "* 3개의 퀴즈 점수로부터 최종 점수를 예측하는 모델 \n",
    "  * $x$의 개수가 3개인 훈련데이터\n",
    "  * $H(x)=w_1x_1+w_2x_2+w_3x_3+b$"
   ]
  },
  {
   "cell_type": "markdown",
   "metadata": {},
   "source": [
    "## **2.파이토치로 구현하기**"
   ]
  },
  {
   "cell_type": "code",
   "execution_count": 1,
   "metadata": {},
   "outputs": [],
   "source": [
    "import torch\n",
    "import torch.nn as nn\n",
    "import torch.nn.functional as F\n",
    "import torch.optim as optim "
   ]
  },
  {
   "cell_type": "code",
   "execution_count": 2,
   "metadata": {},
   "outputs": [
    {
     "data": {
      "text/plain": [
       "<torch._C.Generator at 0x2058f91f3f0>"
      ]
     },
     "execution_count": 2,
     "metadata": {},
     "output_type": "execute_result"
    }
   ],
   "source": [
    "torch.manual_seed(1) #랜덤 시드 고정"
   ]
  },
  {
   "cell_type": "code",
   "execution_count": 3,
   "metadata": {},
   "outputs": [],
   "source": [
    "# 훈련데이터 선언\n",
    "x1_train=torch.FloatTensor([[73],[93],[89],[96],[73]])\n",
    "x2_train=torch.FloatTensor([[80],[88],[91],[98],[66]])\n",
    "x3_train=torch.FloatTensor([[75],[93],[90],[100],[70]])\n",
    "\n",
    "y_train=torch.FloatTensor([[152],[185],[180],[196],[142]])"
   ]
  },
  {
   "cell_type": "code",
   "execution_count": 4,
   "metadata": {},
   "outputs": [],
   "source": [
    "# 가중치 w와 편향 b 선언\n",
    "w1=torch.zeros(1,requires_grad=True)\n",
    "w2=torch.zeros(1,requires_grad=True)\n",
    "w3=torch.zeros(1,requires_grad=True)\n",
    "\n",
    "b=torch.zeros(1,requires_grad=True)"
   ]
  },
  {
   "cell_type": "code",
   "execution_count": 7,
   "metadata": {},
   "outputs": [
    {
     "name": "stdout",
     "output_type": "stream",
     "text": [
      "Epoch    0/1000 w1:0.551 w2:0.550 w3:0.557 b0.006 Cost:2915.712158\n",
      "Epoch  100/1000 w1:0.674 w2:0.661 w3:0.676 b0.008 Cost:1.562279\n",
      "Epoch  200/1000 w1:0.679 w2:0.655 w3:0.677 b0.008 Cost:1.496321\n",
      "Epoch  300/1000 w1:0.684 w2:0.649 w3:0.677 b0.008 Cost:1.433805\n",
      "Epoch  400/1000 w1:0.690 w2:0.643 w3:0.678 b0.008 Cost:1.374573\n",
      "Epoch  500/1000 w1:0.695 w2:0.638 w3:0.678 b0.009 Cost:1.318419\n",
      "Epoch  600/1000 w1:0.699 w2:0.632 w3:0.679 b0.009 Cost:1.265176\n",
      "Epoch  700/1000 w1:0.704 w2:0.627 w3:0.679 b0.009 Cost:1.214724\n",
      "Epoch  800/1000 w1:0.709 w2:0.622 w3:0.679 b0.009 Cost:1.166892\n",
      "Epoch  900/1000 w1:0.714 w2:0.617 w3:0.680 b0.009 Cost:1.121545\n",
      "Epoch 1000/1000 w1:0.718 w2:0.612 w3:0.680 b0.009 Cost:1.078541\n"
     ]
    }
   ],
   "source": [
    "#optimizer 설정\n",
    "optimizer=optim.SGD([w1,w2,w3,b],lr=1e-5)\n",
    "nb_epochs=1000\n",
    "\n",
    "\n",
    "for epoch in range(nb_epochs+1):\n",
    "    #H(x)\n",
    "    hypothesis=x1_train*w1+x2_train*w2+x3_train*w3+b\n",
    "    \n",
    "    #cost\n",
    "    cost=torch.mean((y_train-hypothesis)**2) \n",
    "\n",
    "    #cost로 H(x) 개선\n",
    "    optimizer.zero_grad() # 파라메터의 gradient 0으로 초기화\n",
    "    cost.backward() #gradient 계산\n",
    "    optimizer.step() #update parameter \n",
    "\n",
    "    #100번마다 로그 출력\n",
    "    if epoch % 100==0:\n",
    "        print('Epoch {:4d}/{} w1:{:.3f} w2:{:.3f} w3:{:.3f} b{:.3f} Cost:{:.6f}'.format(epoch,nb_epochs,w1.item(),w2.item(),w3.item(),b.item(),cost.item()))"
   ]
  },
  {
   "cell_type": "markdown",
   "metadata": {},
   "source": [
    "## **3. 벡터와 행렬 연산으로 바꾸기**\n",
    "* $x$의 개수가 1000개라고 가정하면 x_train1~ x_train1000, w1~w1000까지 총 2000개의 변수를 선언해야함. \n",
    "* $x$와 $w$ 변수 선언을 효율적으로 처리하려면 어떻게 해야하는가. \n",
    "* **행렬 곱셈 연산(또는 벡터의 내적)** 사용 \n",
    "### **(1) 벡터연산으로 이해하기**\n",
    "* #"
   ]
  },
  {
   "cell_type": "markdown",
   "metadata": {},
   "source": []
  }
 ],
 "metadata": {
  "kernelspec": {
   "display_name": "Python 3.7.13 ('deeplearning')",
   "language": "python",
   "name": "python3"
  },
  "language_info": {
   "codemirror_mode": {
    "name": "ipython",
    "version": 3
   },
   "file_extension": ".py",
   "mimetype": "text/x-python",
   "name": "python",
   "nbconvert_exporter": "python",
   "pygments_lexer": "ipython3",
   "version": "3.7.13"
  },
  "orig_nbformat": 4,
  "vscode": {
   "interpreter": {
    "hash": "33bb709aa52d0f1c012e153b74c2c585d1723b1d162db1a778a7381b9d9efdce"
   }
  }
 },
 "nbformat": 4,
 "nbformat_minor": 2
}
