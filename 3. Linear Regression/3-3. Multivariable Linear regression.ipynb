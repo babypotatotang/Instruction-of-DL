{
 "cells": [
  {
   "cell_type": "markdown",
   "metadata": {},
   "source": [
    "# **<u>3. 다중선형회귀(Multivariable Linear Regression) </u>**\n",
    "* $x$가 1개인 선형회귀를 단순 선형회귀라고 함. \n",
    "* 이번 챕터에서는 다수의 $x$로부터 $y$를 예측하는 **다중선형회귀**에 대해서 학습"
   ]
  },
  {
   "cell_type": "markdown",
   "metadata": {},
   "source": [
    "## **1.데이터에 대한 이해(Data Definition)**\n",
    "* 3개의 퀴즈 점수로부터 최종 점수를 예측하는 모델 \n",
    "  * $x$의 개수가 3개인 훈련데이터\n",
    "  * $H(x)=w_1x_1+w_2x_2+w_3x_3+b$"
   ]
  },
  {
   "cell_type": "markdown",
   "metadata": {},
   "source": [
    "## **2.파이토치로 구현하기**"
   ]
  },
  {
   "cell_type": "code",
   "execution_count": 2,
   "metadata": {},
   "outputs": [],
   "source": [
    "import torch\n",
    "import torch.nn as nn\n",
    "import torch.nn.functional as F\n",
    "import torch.optim as optim "
   ]
  },
  {
   "cell_type": "code",
   "execution_count": 3,
   "metadata": {},
   "outputs": [
    {
     "data": {
      "text/plain": [
       "<torch._C.Generator at 0x197fd29f450>"
      ]
     },
     "execution_count": 3,
     "metadata": {},
     "output_type": "execute_result"
    }
   ],
   "source": [
    "torch.manual_seed(1) #랜덤 시드 고정"
   ]
  },
  {
   "cell_type": "code",
   "execution_count": 4,
   "metadata": {},
   "outputs": [],
   "source": [
    "# 훈련데이터 선언\n",
    "x1_train=torch.FloatTensor([[73],[93],[89],[96],[73]])\n",
    "x2_train=torch.FloatTensor([[80],[88],[91],[98],[66]])\n",
    "x3_train=torch.FloatTensor([[75],[93],[90],[100],[70]])\n",
    "\n",
    "y_train=torch.FloatTensor([[152],[185],[180],[196],[142]])"
   ]
  },
  {
   "cell_type": "code",
   "execution_count": 5,
   "metadata": {},
   "outputs": [],
   "source": [
    "# 가중치 w와 편향 b 선언\n",
    "w1=torch.zeros(1,requires_grad=True)\n",
    "w2=torch.zeros(1,requires_grad=True)\n",
    "w3=torch.zeros(1,requires_grad=True)\n",
    "\n",
    "b=torch.zeros(1,requires_grad=True)"
   ]
  },
  {
   "cell_type": "code",
   "execution_count": 6,
   "metadata": {},
   "outputs": [
    {
     "name": "stdout",
     "output_type": "stream",
     "text": [
      "Epoch    0/1000 w1:0.294 w2:0.294 w3:0.297 b0.003 Cost:29661.800781\n",
      "Epoch  100/1000 w1:0.674 w2:0.661 w3:0.676 b0.008 Cost:1.563634\n",
      "Epoch  200/1000 w1:0.679 w2:0.655 w3:0.677 b0.008 Cost:1.497607\n",
      "Epoch  300/1000 w1:0.684 w2:0.649 w3:0.677 b0.008 Cost:1.435026\n",
      "Epoch  400/1000 w1:0.689 w2:0.643 w3:0.678 b0.008 Cost:1.375730\n",
      "Epoch  500/1000 w1:0.694 w2:0.638 w3:0.678 b0.009 Cost:1.319511\n",
      "Epoch  600/1000 w1:0.699 w2:0.633 w3:0.679 b0.009 Cost:1.266222\n",
      "Epoch  700/1000 w1:0.704 w2:0.627 w3:0.679 b0.009 Cost:1.215696\n",
      "Epoch  800/1000 w1:0.709 w2:0.622 w3:0.679 b0.009 Cost:1.167818\n",
      "Epoch  900/1000 w1:0.713 w2:0.617 w3:0.680 b0.009 Cost:1.122429\n",
      "Epoch 1000/1000 w1:0.718 w2:0.613 w3:0.680 b0.009 Cost:1.079378\n"
     ]
    }
   ],
   "source": [
    "#optimizer 설정\n",
    "optimizer=optim.SGD([w1,w2,w3,b],lr=1e-5)\n",
    "nb_epochs=1000\n",
    "\n",
    "\n",
    "for epoch in range(nb_epochs+1):\n",
    "    #H(x)\n",
    "    hypothesis=x1_train*w1+x2_train*w2+x3_train*w3+b\n",
    "    \n",
    "    #cost\n",
    "    cost=torch.mean((y_train-hypothesis)**2) \n",
    "\n",
    "    #cost로 H(x) 개선\n",
    "    optimizer.zero_grad() # 파라메터의 gradient 0으로 초기화\n",
    "    cost.backward() #gradient 계산\n",
    "    optimizer.step() #update parameter \n",
    "\n",
    "    #100번마다 로그 출력\n",
    "    if epoch % 100==0:\n",
    "        print('Epoch {:4d}/{} w1:{:.3f} w2:{:.3f} w3:{:.3f} b{:.3f} Cost:{:.6f}'.format(epoch,nb_epochs,w1.item(),w2.item(),w3.item(),b.item(),cost.item()))"
   ]
  },
  {
   "cell_type": "markdown",
   "metadata": {},
   "source": [
    "## **3. 벡터와 행렬 연산으로 바꾸기**\n",
    "* $x$의 개수가 1000개라고 가정하면 x_train1~ x_train1000, w1~w1000까지 총 2000개의 변수를 선언해야함. \n",
    "* $x$와 $w$ 변수 선언을 효율적으로 처리하려면 어떻게 해야하는가. \n",
    "* **행렬 곱셈 연산(또는 벡터의 내적)** 사용 \n",
    "### **(1) 벡터연산으로 이해하기**\n",
    "$$ \\big(\\begin{matrix}x_1&x_2&x_3 \\end{matrix}\\big)  . \\big(\\begin{matrix}w_1\\\\w_2\\\\ w_3\\\\ \\end{matrix}\\big) = (x_1w_1+x_2w_2+x_3w_3)$$\n",
    "* 두 벡터를 각각 $X$와 $W$로 표현한다면, hypothesis는 다음과 같이 표현됨. \n",
    "$H(X)=XW$\n",
    "* $x$의 개수가 3개였음에도, $X$와 $W$라는 두 개의 변수로 표현됨. \n",
    "\n",
    "### **(2) 행렬 연산으로 이해하기**\n",
    "$$ \\big(\\begin{matrix}x_{11}&x_{12}& x_{13}\\\\x_{21}&x_{22}& x_{23}\\\\x_{31}&x_{32}& x_{33}\\\\x_{41}&x_{42}& x_{43}\\\\x_{51}&x_{52}& x_{53} \\end{matrix}\\big)  . \\big(\\begin{matrix}w_1\\\\w_2\\\\ w_3\\\\ \\end{matrix}\\big) = \\big(\\begin{matrix}x_{11}w1+x_{12}w2+x_{13}w3\\\\x_{21}w1+x_{22}w2+x_{23}w3\\\\x_{31}w1+x_{32}w2+x_{33}w3 \\\\x_{41}w1+x_{42}w2+x_{43}w3\\\\x_{51}w1+x_{52}w2+x_{53}w3\\end{matrix}\\big)$$\n",
    "* $x$의 개수가 5개인 경우 가중치와의 곱은 다음과 같이 표현할 수 있음. \n",
    "* 만약 여기에 **편향 b를 추가**한다면, \n",
    "$$ \\big(\\begin{matrix}x_{11}&x_{12}& x_{13}\\\\x_{21}&x_{22}& x_{23}\\\\x_{31}&x_{32}& x_{33}\\\\x_{41}&x_{42}& x_{43}\\\\x_{51}&x_{52}& x_{53} \\end{matrix}\\big)  . \\big(\\begin{matrix}w_1\\\\w_2\\\\ w_3\\\\ \\end{matrix}\\big) +\\big(\\begin{matrix}b\\\\b\\\\b\\\\b\\\\b\\\\ \\end{matrix}\\big)= \\big(\\begin{matrix}x_{11}w1+x_{12}w2+x_{13}w3+b\\\\x_{21}w1+x_{22}w2+x_{23}w3+b\\\\x_{31}w1+x_{32}w2+x_{33}w3 +b\\\\x_{41}w1+x_{42}w2+x_{43}w3+b\\\\x_{51}w1+x_{52}w2+x_{53}w3+b\\end{matrix}\\big) $$\n",
    "* 이는 결과적으로 다음과 같음. \n",
    "$H(X)=XW+B$"
   ]
  },
  {
   "cell_type": "markdown",
   "metadata": {},
   "source": [
    "## **4. 행렬 연산을 고려하여 파이토치로 구현하기**\n",
    "* 훈련 데이터는 행렬의 형태를 가지므로, 훈련데이터 또한 행렬로 선언해야함."
   ]
  },
  {
   "cell_type": "code",
   "execution_count": 9,
   "metadata": {},
   "outputs": [
    {
     "name": "stdout",
     "output_type": "stream",
     "text": [
      "torch.Size([5, 3])\n",
      "torch.Size([5, 1])\n"
     ]
    }
   ],
   "source": [
    "x_train=torch.FloatTensor([[73, 80, 75],\n",
    "                           [93, 88, 93],\n",
    "                           [89,91,80],\n",
    "                           [96,98,100],\n",
    "                           [73,66,70]])\n",
    "y_train=torch.FloatTensor([[152],[185],[180],[196],[142]])\n",
    "\n",
    "print(x_train.shape)\n",
    "print(y_train.shape)"
   ]
  },
  {
   "cell_type": "code",
   "execution_count": 14,
   "metadata": {},
   "outputs": [],
   "source": [
    "# 가중치와 편향 선언 (모델 초기화)\n",
    "W=torch.zeros((3,1),requires_grad=True)\n",
    "b=torch.zeros(1,requires_grad=True)\n",
    "\n",
    "#optimizer 설정\n",
    "optimizer=optim.SGD([W,b],lr=1e-5) "
   ]
  },
  {
   "cell_type": "code",
   "execution_count": 15,
   "metadata": {},
   "outputs": [
    {
     "name": "stdout",
     "output_type": "stream",
     "text": [
      "Epoch    0/20 hypothesistensor([0., 0., 0., 0., 0.]) Cost:29661.800781\n",
      "Epoch    1/20 hypothesistensor([66.7178, 80.1701, 76.1025, 86.0194, 61.1565]) Cost:9537.694336\n",
      "Epoch    2/20 hypothesistensor([104.5421, 125.6208, 119.2478, 134.7862,  95.8280]) Cost:3069.590088\n",
      "Epoch    3/20 hypothesistensor([125.9858, 151.3882, 143.7087, 162.4333, 115.4844]) Cost:990.670898\n",
      "Epoch    4/20 hypothesistensor([138.1429, 165.9963, 157.5768, 178.1071, 126.6283]) Cost:322.482086\n",
      "Epoch    5/20 hypothesistensor([145.0350, 174.2780, 165.4395, 186.9928, 132.9461]) Cost:107.717064\n",
      "Epoch    6/20 hypothesistensor([148.9423, 178.9730, 169.8976, 192.0301, 136.5279]) Cost:38.687496\n",
      "Epoch    7/20 hypothesistensor([151.1574, 181.6346, 172.4254, 194.8856, 138.5585]) Cost:16.499043\n",
      "Epoch    8/20 hypothesistensor([152.4131, 183.1435, 173.8590, 196.5043, 139.7097]) Cost:9.365656\n",
      "Epoch    9/20 hypothesistensor([153.1250, 183.9988, 174.6723, 197.4217, 140.3625]) Cost:7.071114\n",
      "Epoch   10/20 hypothesistensor([153.5285, 184.4835, 175.1338, 197.9415, 140.7325]) Cost:6.331847\n",
      "Epoch   11/20 hypothesistensor([153.7572, 184.7582, 175.3958, 198.2360, 140.9424]) Cost:6.092532\n",
      "Epoch   12/20 hypothesistensor([153.8868, 184.9138, 175.5449, 198.4026, 141.0613]) Cost:6.013817\n",
      "Epoch   13/20 hypothesistensor([153.9602, 185.0019, 175.6299, 198.4969, 141.1288]) Cost:5.986785\n",
      "Epoch   14/20 hypothesistensor([154.0017, 185.0517, 175.6785, 198.5500, 141.1671]) Cost:5.976325\n",
      "Epoch   15/20 hypothesistensor([154.0252, 185.0798, 175.7065, 198.5800, 141.1888]) Cost:5.971208\n",
      "Epoch   16/20 hypothesistensor([154.0385, 185.0956, 175.7229, 198.5966, 141.2012]) Cost:5.967835\n",
      "Epoch   17/20 hypothesistensor([154.0459, 185.1045, 175.7326, 198.6059, 141.2082]) Cost:5.964969\n",
      "Epoch   18/20 hypothesistensor([154.0501, 185.1094, 175.7386, 198.6108, 141.2122]) Cost:5.962291\n",
      "Epoch   19/20 hypothesistensor([154.0524, 185.1120, 175.7424, 198.6134, 141.2145]) Cost:5.959664\n",
      "Epoch   20/20 hypothesistensor([154.0536, 185.1134, 175.7451, 198.6145, 141.2158]) Cost:5.957089\n"
     ]
    }
   ],
   "source": [
    "nb_epochs=20\n",
    "\n",
    "for epoch in range(nb_epochs+1):\n",
    "\n",
    "    #H(x) 계산\n",
    "    #편향 b는 브로드캐스팅되어 각 샘플에 더해짐\n",
    "    hypothesis=x_train.matmul(W)+b\n",
    "\n",
    "    #cost 계산 \n",
    "    cost=torch.mean((y_train-hypothesis)**2)\n",
    "\n",
    "    #cost로 H(x) 개선\n",
    "    optimizer.zero_grad()\n",
    "    cost.backward()\n",
    "    optimizer.step()\n",
    "\n",
    "    print('Epoch {:4d}/{} hypothesis{} Cost:{:.6f}'.format(epoch,nb_epochs,hypothesis.squeeze().detach(),cost.item()))"
   ]
  }
 ],
 "metadata": {
  "kernelspec": {
   "display_name": "Python 3.7.13 ('deeplearning')",
   "language": "python",
   "name": "python3"
  },
  "language_info": {
   "codemirror_mode": {
    "name": "ipython",
    "version": 3
   },
   "file_extension": ".py",
   "mimetype": "text/x-python",
   "name": "python",
   "nbconvert_exporter": "python",
   "pygments_lexer": "ipython3",
   "version": "3.7.13"
  },
  "orig_nbformat": 4,
  "vscode": {
   "interpreter": {
    "hash": "33bb709aa52d0f1c012e153b74c2c585d1723b1d162db1a778a7381b9d9efdce"
   }
  }
 },
 "nbformat": 4,
 "nbformat_minor": 2
}
