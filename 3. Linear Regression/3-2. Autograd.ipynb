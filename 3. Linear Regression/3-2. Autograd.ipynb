{
 "cells": [
  {
   "cell_type": "markdown",
   "metadata": {},
   "source": [
    "# **<u> 02. 자동 미분(Autograd)</u>**\n",
    "* 경사하강법 코드에서 `requires_grad=True,backward()`등이 나옴. \n",
    "* 이는 파이토치에서 제공하고 있는 자동미분(Autograd) 기능을 수행하고 있는 것임. "
   ]
  },
  {
   "cell_type": "markdown",
   "metadata": {},
   "source": [
    "## **1. 경사하강법 리뷰**\n",
    "* 비용 함수를 미분하여 이 함수의 기울기(gradient)를 구해서 **비용이 최소화되는 방향을** 찾아내는 알고리즘.\n",
    "* 파이토치에서는 연산 과정을 단순화하기 위해 자동미분(autograd)을 지원함. \n",
    "* 자동 미분을 사용하면 미분 계싼을 자동화하여 경사하강법을 손쉽게 사용할 수 있게 해줌.  "
   ]
  },
  {
   "cell_type": "markdown",
   "metadata": {},
   "source": [
    "## **2. 자동미분(Autograd) 실습하기**\n",
    "* 자동 미분에 대해서 실습 진행. \n",
    "* 식 $2w^2+5$을 세우고, $w$에 대하 미분값 저장."
   ]
  },
  {
   "cell_type": "code",
   "execution_count": 3,
   "metadata": {},
   "outputs": [
    {
     "name": "stdout",
     "output_type": "stream",
     "text": [
      "수식을 w로 미분한 값: 8.0\n"
     ]
    }
   ],
   "source": [
    "import torch\n",
    "w=torch.tensor(2.0,requires_grad=True)\n",
    "\n",
    "y=w**2\n",
    "z=2*y+5\n",
    "\n",
    "z.backward() # 해당 수식의 w에 대한 기울기 계산\n",
    "\n",
    "print('수식을 w로 미분한 값: {}'.format(w.grad))"
   ]
  }
 ],
 "metadata": {
  "kernelspec": {
   "display_name": "Python 3.7.13 ('deeplearning')",
   "language": "python",
   "name": "python3"
  },
  "language_info": {
   "codemirror_mode": {
    "name": "ipython",
    "version": 3
   },
   "file_extension": ".py",
   "mimetype": "text/x-python",
   "name": "python",
   "nbconvert_exporter": "python",
   "pygments_lexer": "ipython3",
   "version": "3.7.13"
  },
  "orig_nbformat": 4,
  "vscode": {
   "interpreter": {
    "hash": "33bb709aa52d0f1c012e153b74c2c585d1723b1d162db1a778a7381b9d9efdce"
   }
  }
 },
 "nbformat": 4,
 "nbformat_minor": 2
}
