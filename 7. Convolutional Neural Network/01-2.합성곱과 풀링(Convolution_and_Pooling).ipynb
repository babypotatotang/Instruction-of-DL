{
  "nbformat": 4,
  "nbformat_minor": 0,
  "metadata": {
    "colab": {
      "private_outputs": true,
      "provenance": [],
      "authorship_tag": "ABX9TyMEMPtMcfmhd4kGfex4a6L2",
      "include_colab_link": true
    },
    "kernelspec": {
      "name": "python3",
      "display_name": "Python 3"
    },
    "language_info": {
      "name": "python"
    }
  },
  "cells": [
    {
      "cell_type": "markdown",
      "metadata": {
        "id": "view-in-github",
        "colab_type": "text"
      },
      "source": [
        "<a href=\"https://colab.research.google.com/github/babypotatotang/Introduction-to-DeepLearning/blob/main/7.%20%ED%95%A9%EC%84%B1%EA%B3%B1%20%EC%8B%A0%EA%B2%BD%EB%A7%9D(Convolutional%20Neural%20Network)/01-2.%ED%95%A9%EC%84%B1%EA%B3%B1%EA%B3%BC%20%ED%92%80%EB%A7%81(Convolution_and_Pooling).ipynb\" target=\"_parent\"><img src=\"https://colab.research.google.com/assets/colab-badge.svg\" alt=\"Open In Colab\"/></a>"
      ]
    },
    {
      "cell_type": "markdown",
      "source": [
        "# 5. 가중치와 편향 \n",
        "--- \n",
        "합성곱 신경망에서 가중치와 편향을 이해하기 위해 우선 **다층 퍼셉트론**을 복습 \n",
        "\n",
        "## 1. 합성곱 신경망의 가중치 \n",
        "* 입력으로 3 x 3 이미지를 처리한다고 가정\n",
        "* **(다층 퍼셉트론)** 이미지를 1차원 텐서인 벡터로 만들면, 3 x 3 = 9, 입력층은 9개의 뉴론을 가짐. 4개의 뉴론을 가지는 은닉층을 추가한다고 했을때, 아래 그림과 같이 동작함. 각 연결선은 가중치를 의미하여, 9 x 4 = 36개의 가중치를 가짐. \n",
        "\n",
        "\n",
        "![](https://wikidocs.net/images/page/64066/conv11.png)\n",
        "\n",
        "* **(합성곱 신경망)** 가중치는 커널 행렬의 원소들로, 아래 그림에서는 2 x 2 커널, 1 stride를 사용함. *는 합성곱 연산을 의미\n",
        "\n",
        "\n",
        "![](https://wikidocs.net/images/page/64066/conv12.png)\n",
        "\n",
        "![](https://wikidocs.net/images/page/64066/conv13.png)\n",
        "\n",
        "* 최종적으로 특성맵을 얻기 위해 동일한 커널로 이미지 전체를 훑으며 합성곱 연산을 진행함. 가중치는 커널 행렬의 원소 개수(4개)와 같으며, 각 합성곱 연산마다 이미지의 모든 픽셀을 사용하는 것이 아니라, 커널과 맵핑되는 픽셀만을 입력으로 사용함. **다층 퍼셉트론을 사용할 때보다 훨씬 적은 수의 가중치를 사용하며 공간적 구조 정보를 보존한다는 특징이 있음.**\n",
        "\n",
        "* 위와 같이 합성곱 연산을 통해 특성 맵을 얻고, 활성화 함수를 지나는 연산을 하는 합성곱 신경망의 은닉층을 합성곱 층 (convolutional layer)라고 함. \n",
        "\n",
        "##2. 합성곱 신경망의 편향 \n",
        "\n",
        "\n",
        "![](https://wikidocs.net/images/page/64066/conv14.png)\n",
        "\n",
        "* bias를 추가하여 사용할 수 있으며 이때는 커널을 적용한 뒤에 더해짐 \n",
        "* 편향은 **하나의 값만 존재하므로** 커널이 적용된 결과의 모든 원소에 더해짐. \n",
        "\n",
        "# 6. 특성 맵의 크기 계산 방법\n",
        "--- \n",
        "feature map의 크기를 계산하는 방법은 다음과 같음. \n",
        "* **notation**\n",
        "    * $I_h$: 입력의 높이 \n",
        "    * $I_w$: 입력의 너비\n",
        "    * $K_h$: 커널의 높이\n",
        "    * $K_w$: 커널의 너비 \n",
        "    * $S$: 스트라이드\n",
        "    * $O_h$: 특성맵의 높이\n",
        "    * $O_w$: 특성맵의 너비 \n",
        "    * $P$: 패딩의 폭 \n",
        "\n",
        "$$O_{h} = floor(\\frac{I_{h} - K_{h} + 2P}{S}+1)$$\n",
        "$$O_{w} = floor(\\frac{I_{w} - K_{w} + 2P}{S}+1)$$\n",
        "\n",
        "# 7. 다수의 채널을 가질 경우의 합성곱 연산(3차원 텐서의 합성곱 연산) \n",
        "![](https://wikidocs.net/images/page/64066/conv15.png)\n",
        "\n",
        "\n",
        "* 다수의 채널을 가진, RGB 이미지를 처리할때 위의 연산을 진행할 수 있음. 입력데이터의 채널의 수와 커널 채널의 수가 같아야 함. \n",
        "* 위의 연산에서 사용되는 커널은 3개의 채널을 가진 1개의 커널임. (입력 데이터와 같음) \n",
        "\n",
        "# 8. 3차원 텐서의 합성곱 연산 \n",
        "* **notation**\n",
        "    * $I_h$: 입력의 높이 \n",
        "    * $I_w$: 입력의 너비\n",
        "    * $K_h$: 커널의 높이\n",
        "    * $K_w$: 커널의 너비 \n",
        "    * $S$: 스트라이드\n",
        "    * $O_h$: 특성맵의 높이\n",
        "    * $O_w$: 특성맵의 너비 \n",
        "    * $C_i$ : 입력데이터의 채널 \n",
        "\n",
        "\n",
        "![](https://wikidocs.net/images/page/64066/conv16_final.png)\n",
        "\n",
        "* 높이 $I_h$, 너비 $I_w$, 채널 $C_i$의 입력 데이터는 동일한 채널 수 $C_i$를 가지는 커널과 합성곱 연산을 하여 $O_h * O_w$ 채널 1의 feature map을 얻음. 하나의 입력에 여러개의 커널을 사용하는 합성곱 연산을 할 수 있음. \n",
        "\n",
        "* 합성곱 연산에서 다수의 커널을 사용하는 경우 특성맵의 크기는 다음과 같이 바뀜. \n",
        "\n",
        "![](https://wikidocs.net/images/page/64066/conv17_final_final.PNG)\n",
        "\n",
        "### 가중치 매개변수의 수 \n",
        "* 가중치는 커널의 원소들로, 하나의 채널은 $K_i * K_o$개의 매개변수를 가지고 있으며, 합성곱 연산을 하려면 커널은 입력 데이터의 채널수와 동일한 채널수를 가져야함. 이에 따라 하나의 커널이 가지는 매개변수의 수는 $K_i * K_o * C_i$ 임.\n",
        "총 $C_o$개의 커널이 있다면, 가중치 매개변수의 총 수는 다음과 같음. \n",
        "* $K_i * K_o * C_i * C_o$\n",
        "\n",
        "\n",
        "# 9. 풀링(Pooling) \n",
        "* feature map에서 downsampling하여 feature map의 크기를 줄이는 연산으로, 일반적으로 **max pooling(최대 풀링)**과 **average pooling(평균 풀링)**이 사용됨. \n",
        "![](https://wikidocs.net/images/page/62306/maxpooling.PNG)\n",
        "\n",
        "* 풀링 연산에서도 합성곱 연산과 마찬가지로 커널과 스트라이드의 개념을 가짐. "
      ],
      "metadata": {
        "id": "F1t5NknIy4mO"
      }
    }
  ]
}