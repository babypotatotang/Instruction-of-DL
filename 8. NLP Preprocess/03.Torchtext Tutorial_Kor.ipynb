{
  "nbformat": 4,
  "nbformat_minor": 0,
  "metadata": {
    "colab": {
      "private_outputs": true,
      "provenance": [],
      "authorship_tag": "ABX9TyNhVXbdF1+MKKbF8rgz9egq",
      "include_colab_link": true
    },
    "kernelspec": {
      "name": "python3",
      "display_name": "Python 3"
    },
    "language_info": {
      "name": "python"
    }
  },
  "cells": [
    {
      "cell_type": "markdown",
      "metadata": {
        "id": "view-in-github",
        "colab_type": "text"
      },
      "source": [
        "<a href=\"https://colab.research.google.com/github/babypotatotang/Introduction-to-DeepLearning/blob/main/8.%20NLP%20Preprocess/03.Torchtext%20Tutorial_Kor.ipynb\" target=\"_parent\"><img src=\"https://colab.research.google.com/assets/colab-badge.svg\" alt=\"Open In Colab\"/></a>"
      ]
    },
    {
      "cell_type": "markdown",
      "source": [
        "# **1. 형태소 분석기 Mecab 설치**"
      ],
      "metadata": {
        "id": "uqEFvpnnOULU"
      }
    },
    {
      "cell_type": "code",
      "source": [
        "# Colab에 Mecab 설치\n",
        "!git clone https://github.com/SOMJANG/Mecab-ko-for-Google-Colab.git\n",
        "%cd Mecab-ko-for-Google-Colab\n",
        "!bash install_mecab-ko_on_colab190912.sh"
      ],
      "metadata": {
        "id": "8mLtodGnOXim"
      },
      "execution_count": null,
      "outputs": []
    },
    {
      "cell_type": "markdown",
      "source": [
        "# **2. 훈련 데이터와 테스트 데이터로 다운로드하기**"
      ],
      "metadata": {
        "id": "Ciaa4JrOObQt"
      }
    },
    {
      "cell_type": "code",
      "source": [
        "import urllib.request \n",
        "import pandas as pd "
      ],
      "metadata": {
        "id": "T_ghHbC8Og9D"
      },
      "execution_count": null,
      "outputs": []
    },
    {
      "cell_type": "code",
      "source": [
        "# 영화 리뷰 데이터 다운로드\n",
        "urllib.request.urlretrieve(\"https://raw.githubusercontent.com/e9t/nsmc/master/ratings_train.txt\", filename=\"ratings_train.txt\")\n",
        "urllib.request.urlretrieve(\"https://raw.githubusercontent.com/e9t/nsmc/master/ratings_test.txt\", filename=\"ratings_test.txt\")"
      ],
      "metadata": {
        "id": "fsYewtJIOnJp"
      },
      "execution_count": null,
      "outputs": []
    },
    {
      "cell_type": "code",
      "source": [
        "# 훈련데이터와 테스트 데이터 각각 정의\n",
        "train_df = pd.read_table('ratings_train.txt')\n",
        "test_df = pd.read_table('ratings_test.txt')"
      ],
      "metadata": {
        "id": "fdmnVnLGPa_u"
      },
      "execution_count": null,
      "outputs": []
    },
    {
      "cell_type": "code",
      "source": [
        "train_df.head()"
      ],
      "metadata": {
        "id": "luOfbCw3PmS0"
      },
      "execution_count": null,
      "outputs": []
    },
    {
      "cell_type": "code",
      "source": [
        "test_df.head()"
      ],
      "metadata": {
        "id": "INrO3X_wPo6i"
      },
      "execution_count": null,
      "outputs": []
    },
    {
      "cell_type": "code",
      "source": [
        "# 각각 id, document, label이라는 3개의 열로 구성되어 있으며 각각 리뷰, 리뷰에 대한 감성 레이블로 이루어져있음. \n",
        "print(f'훈련 데이터 샘플의 개수: {len(train_df)}') # 15만\n",
        "print(f'테스트 데이터 샘플의 개수 : {len(test_df)}') # 5만"
      ],
      "metadata": {
        "id": "iPzeGStIPqnC"
      },
      "execution_count": null,
      "outputs": []
    },
    {
      "cell_type": "markdown",
      "source": [
        "# **3. 필드 정의하기 (torchtext.data)**"
      ],
      "metadata": {
        "id": "e_rrLfKZP9Pd"
      }
    },
    {
      "cell_type": "code",
      "source": [
        "# 0.10.0 버전으로 install \n",
        "!pip install torchtext==0.10.0"
      ],
      "metadata": {
        "id": "6vShAlviSANP"
      },
      "execution_count": null,
      "outputs": []
    },
    {
      "cell_type": "code",
      "source": [
        "from torchtext.legacy import data # torchtext.data 임포트\n",
        "from konlpy.tag import Mecab"
      ],
      "metadata": {
        "id": "PCP6lww_QBAo"
      },
      "execution_count": null,
      "outputs": []
    },
    {
      "cell_type": "code",
      "source": [
        "# Mecab을 토크나이저로 사용\n",
        "tokenizer = Mecab()"
      ],
      "metadata": {
        "id": "jrUQ812SQG5g"
      },
      "execution_count": null,
      "outputs": []
    },
    {
      "cell_type": "code",
      "source": [
        "# 필드 정의 \n",
        "ID = data.Field(sequential = False, \n",
        "                use_vocab = False)  # 데이터 프로세싱 과정에서 실제로 사용하지 않음 \n",
        "TEXT = data.Field(sequential = True, \n",
        "                  use_vocab = True, tokenize = tokenizer.morphs, lower = True, batch_first = True, \n",
        "                  fix_length = 20)\n",
        "LABEL = data.Field(sequential = False, use_vocab = True)"
      ],
      "metadata": {
        "id": "6s6JcZOSQLPO"
      },
      "execution_count": null,
      "outputs": []
    },
    {
      "cell_type": "markdown",
      "source": [
        "# **4. 데이터셋 만들기**\n"
      ],
      "metadata": {
        "id": "xBpbHGHnQKri"
      }
    },
    {
      "cell_type": "code",
      "source": [
        "from torchtext.legacy.data import TabularDataset"
      ],
      "metadata": {
        "id": "LltaiIR-TFUr"
      },
      "execution_count": null,
      "outputs": []
    },
    {
      "cell_type": "code",
      "source": [
        "train_data, test_data = TabularDataset.splits(\n",
        "        path='.', train='ratings_train.txt', test='ratings_test.txt', format='tsv',\n",
        "        fields=[('id', ID), ('text', TEXT), ('label', LABEL)], skip_header=True)"
      ],
      "metadata": {
        "id": "LEJtly_uTQlN"
      },
      "execution_count": null,
      "outputs": []
    },
    {
      "cell_type": "code",
      "source": [
        "print(f'훈련 샘플의 개수 : {len(train_data)}')\n",
        "print(f'테스트 샘플의 개수 : {len(test_data)}')"
      ],
      "metadata": {
        "id": "f_NtAt8vTqSc"
      },
      "execution_count": null,
      "outputs": []
    },
    {
      "cell_type": "code",
      "source": [
        "print(vars(train_data[0]))"
      ],
      "metadata": {
        "id": "LNBz-jO3UGNN"
      },
      "execution_count": null,
      "outputs": []
    },
    {
      "cell_type": "markdown",
      "source": [
        "# **5. 단어 집합(Vocabulary) 만들기**\n"
      ],
      "metadata": {
        "id": "H8qQBjm3UKNn"
      }
    },
    {
      "cell_type": "code",
      "source": [
        "# 단어 집합 생성 \n",
        "TEXT.build_vocab(train_data, min_freq = 10, max_size = 10000)"
      ],
      "metadata": {
        "id": "dZJX7xmgUP8-"
      },
      "execution_count": null,
      "outputs": []
    },
    {
      "cell_type": "code",
      "source": [
        "print(f'단어 집합의 크기 : {len(TEXT.vocab)}')"
      ],
      "metadata": {
        "id": "npCTfX-YUaah"
      },
      "execution_count": null,
      "outputs": []
    },
    {
      "cell_type": "code",
      "source": [
        "print(TEXT.vocab.stoi)"
      ],
      "metadata": {
        "id": "RJZ_sgiWUiTu"
      },
      "execution_count": null,
      "outputs": []
    },
    {
      "cell_type": "markdown",
      "source": [
        "# **6. 토치텍스트의 데이터로더 만들기**"
      ],
      "metadata": {
        "id": "xMwmQz3YUqJe"
      }
    },
    {
      "cell_type": "code",
      "source": [
        "from torchtext.legacy.data import Iterator"
      ],
      "metadata": {
        "id": "Vpsog6YBUxNG"
      },
      "execution_count": null,
      "outputs": []
    },
    {
      "cell_type": "code",
      "source": [
        "batch_size = 5"
      ],
      "metadata": {
        "id": "kkEYleZSU0RG"
      },
      "execution_count": null,
      "outputs": []
    },
    {
      "cell_type": "code",
      "source": [
        "train_loader = Iterator(dataset=train_data, batch_size = batch_size)\n",
        "test_loader = Iterator(dataset=test_data, batch_size = batch_size)"
      ],
      "metadata": {
        "id": "NFzniyVTU2Ax"
      },
      "execution_count": null,
      "outputs": []
    },
    {
      "cell_type": "code",
      "source": [
        "# 배치 크기 5씩 묶어주었으므로, 미니배치 수는 30,000개, 10,000개 \n",
        "print(f'훈련 데이터의 미니 배치 수 : {len(train_loader)}')\n",
        "print(f'테스트 데이터의 미니 배치 수 : {len(test_loader)}')"
      ],
      "metadata": {
        "id": "1B-4on3RVAyP"
      },
      "execution_count": null,
      "outputs": []
    },
    {
      "cell_type": "code",
      "source": [
        "batch = next(iter(train_loader)) # 첫번째 미니 배치"
      ],
      "metadata": {
        "id": "cR8c-ZIqVMmj"
      },
      "execution_count": null,
      "outputs": []
    },
    {
      "cell_type": "markdown",
      "source": [
        "* 배치 크기가 5이기 때문에 5개의 샘플이 출력됨 \n",
        "* 각 샘플의 길이는 20(`fix_length`)를 가지며, 미니 배치의 크기는 5 x 20 (배치 크기 x 샘플의 길이) 임.  "
      ],
      "metadata": {
        "id": "sjaM-MPeW5rT"
      }
    }
  ]
}