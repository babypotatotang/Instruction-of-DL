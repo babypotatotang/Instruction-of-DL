{
  "nbformat": 4,
  "nbformat_minor": 0,
  "metadata": {
    "colab": {
      "private_outputs": true,
      "provenance": [],
      "authorship_tag": "ABX9TyMt/cGQ8rFBm5aVmXLHKJnd",
      "include_colab_link": true
    },
    "kernelspec": {
      "name": "python3",
      "display_name": "Python 3"
    },
    "language_info": {
      "name": "python"
    }
  },
  "cells": [
    {
      "cell_type": "markdown",
      "metadata": {
        "id": "view-in-github",
        "colab_type": "text"
      },
      "source": [
        "<a href=\"https://colab.research.google.com/github/babypotatotang/Introduction-to-DeepLearning/blob/main/7.%20%ED%95%A9%EC%84%B1%EA%B3%B1%20%EC%8B%A0%EA%B2%BD%EB%A7%9D(Convolutional%20Neural%20Network)/01-1.%ED%95%A9%EC%84%B1%EA%B3%B1%EA%B3%BC%20%ED%92%80%EB%A7%81(Convolution_and_Pooling).ipynb\" target=\"_parent\"><img src=\"https://colab.research.google.com/assets/colab-badge.svg\" alt=\"Open In Colab\"/></a>"
      ]
    },
    {
      "cell_type": "markdown",
      "source": [
        "합성곱 신경망은 이미지 처리에 탁월한 성능을 보이는 신경망임. \n",
        "크게 **합성곱층(Convolution layer)**와 **풀링층(Pooling layer)**로 구성됨. \n",
        "![](https://wikidocs.net/images/page/62306/convpooling.PNG)\n",
        "\n",
        "위의 그림에서 CONV는 합성곱 연산을 의미하고, 합성곱 연산의 결과가 ReLU를 지남. \n",
        "그 이후 POOL이라는 구간을 지나면서 풀링연산 진행 \n",
        "\n",
        "#1. 합성곱 신경망의 대두 \n",
        "---\n",
        "* 이미지 처리에 탁월한 성능을 보임. 이미지 처리를 하기 위해 앞서 배운 다층 퍼셉트론을 사용할 수 있지만, 한계가 있음. \n",
        "![](https://wikidocs.net/images/page/64066/conv0.png)\n",
        "\n",
        "\n",
        "위와 같이 이미지는 같은 대상이라도 휘어지거나, 이동되는 것과 같은 다양한 변형이 존재함. 다층 퍼셉트론은 몇가지 픽셀값에도 민감하게 예측에 영향을 받는 단점이 있음. \n",
        "\n",
        "![](https://wikidocs.net/images/page/64066/conv1.png)\n",
        "\n",
        "단순히 2차원 행렬을 1차원으로 변환한 결과는 사람이 보기에도 구분하기 힘듬. 변환된 이미지는 **spatial structure(공간 구조)**에 대한 정보가 유실된 상태이며, 합성곱 신경망은 이미지의 spatial structure을 보존하면서 학습하고자 함. \n",
        "\n",
        "# 2. 채널(Channel) \n",
        "---\n",
        "## 용어 설명\n",
        "* 기계는 이미지나 글자보다 숫자, 즉 tensor를 더 잘 처리할 수 있음. 이미지는 (Height,Width, Channel)의 정보를 갖는 3차원 tensor임. 여기서 Height는 이미지의 세로 방향 픽셀 수, Width는 이미지의 가로 방향 픽셀 수, Channel은 색 성분을 의미함. \n",
        "* 흑백 이미지는 채널 수가 1이며, 각 픽셀은 0부터 255 사이의 값을 가짐. 아래는 28 x 28 픽셀의 손글씨 데이터임. 흑백이미지이므로 채널 수가 1임을 고려하면 (28 x 28 x 1)의 크기를 가지는 3차원 텐서임을 알 수 있음. \n",
        "\n",
        "![](https://wikidocs.net/images/page/64066/conv2.png)\n",
        "\n",
        "* 흑백이 아닌 컬러이미지의 경우 Red, Green, Blue 채널을 가져 채널 수가 3개임. \n",
        "\n",
        "\n",
        "#3. 합성곱 연산(Convolution Operation) \n",
        "---\n",
        "합성곱층은 합성곱 연산을 통해 **이미지의 특징**을 추출하는 역할을함. \n",
        "* 합성곱, convolution은 **kernel(filter)** 라는 $n * m$ 크기의 행렬로 주어진 이미지를 처음부터 끝까지 겹치며 훑으면서 $n * m$ 크기의 겹쳐지는 부분의 이미지의 커널 원소의 값을 곱해서 모두 더한 값을 출력함. 이때, 이미지의 가장 왼쪽 위부터 가장 오른쪽까지 순차적으로 훑음. \n",
        "* 커널의 크기는 사용자가 정할 수 있으며 일반적으로 3 x 3 또는 5 x 5를 사용함. 또한 커널의 이동 범위를 지정할 수 있는데, 이 이동 범위를 **stride(스트라이드)**라고 함. \n",
        "* 그렇데 나온 결과를 **feature map(특성맵)**이라고 함. \n",
        "\n",
        "#4. 패딩(Padding) \n",
        "---\n",
        "* 기존 이미지의 크기가 5 x 5 일때, 3 x 3 커널로 합성곱 연산을 수행하면, stride가 1일 경우 3x3의 feature map을 얻을 수 있음. 이와 같이 합성곱 연산의 결과인 feature map은 기존의 입력보다 크기가 작아진다는 특징을 가짐. \n",
        "* 만약 합성곱 층을 여러개 쌓는다면 최종 feature map은 초기 입력보다 매우 작아질 수 있음. 이를 막고자, **padding** 기법이 등장함. \n",
        "\n",
        "![](https://wikidocs.net/images/page/64066/conv10.png)\n",
        "\n",
        "* 패딩은 **합성곱 연산 이전에** 입력 이미지의 가장자리에 지정된 개수의 폭만큼 행과 열을 추가하는 것을 말함. (테두리 추가) 주로 0 값으로 채우는 zero padding을 많이 수행함. \n",
        "* 3 x 3 크기의 커널, 1 stride에서 1폭짜리 zero padding을 사용 -> feature map 크기 보존 \n",
        "* 5 x 5 크기의 커널, 1 stride에서 2폭짜리 zerop padding을 사용 -> feature map 크기 보존 "
      ],
      "metadata": {
        "id": "TrVgJHuoiO35"
      }
    }
  ]
}