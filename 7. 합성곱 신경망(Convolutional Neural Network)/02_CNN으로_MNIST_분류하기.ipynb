{
  "nbformat": 4,
  "nbformat_minor": 0,
  "metadata": {
    "colab": {
      "private_outputs": true,
      "provenance": [],
      "authorship_tag": "ABX9TyN/WCjCx5jhD5kdcvRlyTEm",
      "include_colab_link": true
    },
    "kernelspec": {
      "name": "python3",
      "display_name": "Python 3"
    },
    "language_info": {
      "name": "python"
    }
  },
  "cells": [
    {
      "cell_type": "markdown",
      "metadata": {
        "id": "view-in-github",
        "colab_type": "text"
      },
      "source": [
        "<a href=\"https://colab.research.google.com/github/babypotatotang/Introduction-to-DeepLearning/blob/main/7.%20%ED%95%A9%EC%84%B1%EA%B3%B1%20%EC%8B%A0%EA%B2%BD%EB%A7%9D(Convolutional%20Neural%20Network)/02_CNN%EC%9C%BC%EB%A1%9C_MNIST_%EB%B6%84%EB%A5%98%ED%95%98%EA%B8%B0.ipynb\" target=\"_parent\"><img src=\"https://colab.research.google.com/assets/colab-badge.svg\" alt=\"Open In Colab\"/></a>"
      ]
    },
    {
      "cell_type": "code",
      "execution_count": null,
      "metadata": {
        "id": "vB0ruWkxCbVh"
      },
      "outputs": [],
      "source": []
    },
    {
      "cell_type": "markdown",
      "source": [
        "# 1. 모델 이해하기 \n",
        "--- \n",
        "## (1) 첫번째 표기방법\n",
        "* 합성곱(`nn.Conv2d`) + 활성화 함수(`nn.ReLU`)를 하나의 합성곱 층으로 보고 맥스 풀링(`nn.MaxPool2d`)은 풀링층으로 별도로 부름\n",
        "\n",
        "## (2) 두번째 표기방법\n",
        "* 합성곱 + 활성화 함수 + 맥스 풀링을 하나의 합성곱 층으로 봄. \n",
        "\n",
        "맥스 풀링을 하나의 합성곱층으로 보느냐 아니냐의 차이로, 이번에는 두번째 표기방법을 사용하여 모델 정의 \n",
        "\n",
        "## 모델 아키텍쳐\n",
        "```python\n",
        "# 1번 레이어: 합성곱층 \n",
        "합성곱(in_channerl = 1, out_channel = 32, kernel_size = 3, stride = 1, padding = 1 ) + relu 맥스풀링 (kernel_size = 2, stride = 2) \n",
        "\n",
        "# 2번 레이어 : 합성곱층(Convolutional layer)\n",
        "합성곱(in_channel = 32, out_channel = 64, kernel_size=3, stride=1, padding=1) + 활성화 함수 ReLU\n",
        "맥스풀링(kernel_size=2, stride=2))\n",
        "\n",
        "# 3번 레이어 : 전결합층(Fully-Connected layer)\n",
        "특성맵을 펼친다. # batch_size × 7 × 7 × 64 → batch_size × 3136\n",
        "전결합층(뉴런 10개) + 활성화 함수 Softmax\n",
        "```\n",
        "\n",
        "# 2. 모델 구현하기 \n",
        "--- "
      ],
      "metadata": {
        "id": "StLwsUfkCmGM"
      }
    },
    {
      "cell_type": "code",
      "source": [
        "import torch\n",
        "import torch.nn as nn "
      ],
      "metadata": {
        "id": "lXIX1chfDjDg"
      },
      "execution_count": null,
      "outputs": []
    },
    {
      "cell_type": "code",
      "source": [
        "inputs = torch.Tensor(1,1,28,28) # 배치 크기 x 채널 x 높이 x 너비 크기의 텐서 선언\n",
        "print(f'텐서의 크기 : {inputs.shape}')"
      ],
      "metadata": {
        "id": "UBtwnojnDk-z"
      },
      "execution_count": null,
      "outputs": []
    },
    {
      "cell_type": "markdown",
      "source": [
        "### 합성곱층과 풀링 선언하기"
      ],
      "metadata": {
        "id": "mg_jMNPhD9Wz"
      }
    },
    {
      "cell_type": "code",
      "source": [
        "conv1 = nn.Conv2d(1,32,3,padding = 1)\n",
        "print(conv1)\n",
        "\n",
        "conv2 = nn.Conv2d(32,64,kernel_size = 3, padding = 1)\n",
        "print(conv2)\n",
        "\n",
        "pool = nn.MaxPool2d(2)\n",
        "print(pool)"
      ],
      "metadata": {
        "id": "sRqgV5A4D_TL"
      },
      "execution_count": null,
      "outputs": []
    },
    {
      "cell_type": "markdown",
      "source": [
        "### 구현체를 연결하여 모델 만들기 "
      ],
      "metadata": {
        "id": "VAvqidupEbPT"
      }
    },
    {
      "cell_type": "code",
      "source": [
        "out = conv1(inputs)\n",
        "out = pool(out)\n",
        "out = conv2(out)\n",
        "out = pool(out)\n",
        "print(out.shape)"
      ],
      "metadata": {
        "id": "-XXs9DtjEdOh"
      },
      "execution_count": null,
      "outputs": []
    },
    {
      "cell_type": "code",
      "source": [
        "out = out.view(out.size(0), -1) # 첫번째 차원인 배치 차원은 그대로 두고 나머지를 일렬로 펼치기 \n",
        "print(out.shape)"
      ],
      "metadata": {
        "id": "7YDKB_2gErbq"
      },
      "execution_count": null,
      "outputs": []
    },
    {
      "cell_type": "code",
      "source": [
        "fc = nn.Linear(3136,10)\n",
        "out = fc(out)\n",
        "print(out.shape)"
      ],
      "metadata": {
        "id": "Lmn61LHrE1FT"
      },
      "execution_count": null,
      "outputs": []
    },
    {
      "cell_type": "markdown",
      "source": [
        "# 3. CNN으로 MNIST 분류하기 "
      ],
      "metadata": {
        "id": "kg0cFLx7E6at"
      }
    },
    {
      "cell_type": "code",
      "source": [
        "import torch\n",
        "import torchvision.datasets as dsets\n",
        "import torchvision.transforms as transforms\n",
        "import torch.nn.init"
      ],
      "metadata": {
        "id": "0JPcRQttE5g_"
      },
      "execution_count": null,
      "outputs": []
    },
    {
      "cell_type": "code",
      "source": [
        "device = 'cuda' if torch.cuda.is_available() else 'cpu'\n",
        "\n",
        "torch.manual_seed(777)\n",
        "\n",
        "if device == 'cuda':\n",
        "    torch.cuda.manual_seed_all(777)"
      ],
      "metadata": {
        "id": "kJz8vktzFGOJ"
      },
      "execution_count": null,
      "outputs": []
    },
    {
      "cell_type": "code",
      "source": [
        "lr = 0.001\n",
        "epochs = 15\n",
        "batch_size = 100"
      ],
      "metadata": {
        "id": "_sSFISlrFQ6L"
      },
      "execution_count": null,
      "outputs": []
    },
    {
      "cell_type": "code",
      "source": [
        "from torch._C import ThroughputBenchmark\n",
        "mnist_train = dsets.MNIST(root = 'MNIST_data/', \n",
        "                          train = True, transform = transforms.ToTensor(), download = True)\n",
        "\n",
        "mnist_test = dsets.MNIST(root='MNIST_data/', # 다운로드 경로 지정\n",
        "                         train=False, # False를 지정하면 테스트 데이터로 다운로드\n",
        "                         transform=transforms.ToTensor(), # 텐서로 변환\n",
        "                         download=True)"
      ],
      "metadata": {
        "id": "_OhnE7tSFW1f"
      },
      "execution_count": null,
      "outputs": []
    },
    {
      "cell_type": "code",
      "source": [
        "data_loader = torch.utils.data.DataLoader(dataset = mnist_train, \n",
        "                                          batch_size = batch_size, \n",
        "                                          shuffle = True, \n",
        "                                          drop_last = True)"
      ],
      "metadata": {
        "id": "4hjqwcgXFlfR"
      },
      "execution_count": null,
      "outputs": []
    },
    {
      "cell_type": "code",
      "source": [
        "class CNN(torch.nn.Module):\n",
        "\n",
        "    def __init__(self):\n",
        "        super(CNN, self).__init__()\n",
        "        self.layer1 = torch.nn.Sequential(\n",
        "            torch.nn.Conv2d(1, 32, kernel_size=3, stride=1, padding=1),\n",
        "            torch.nn.ReLU(),\n",
        "            torch.nn.MaxPool2d(kernel_size=2, stride=2))\n",
        "\n",
        "        self.layer2 = torch.nn.Sequential(\n",
        "            torch.nn.Conv2d(32, 64, kernel_size=3, stride=1, padding=1),\n",
        "            torch.nn.ReLU(),\n",
        "            torch.nn.MaxPool2d(kernel_size=2, stride=2))\n",
        "\n",
        "        # 전결합층 7x7x64 inputs -> 10 outputs\n",
        "        self.fc = torch.nn.Linear(7 * 7 * 64, 10, bias=True)\n",
        "\n",
        "        # 전결합층 한정으로 가중치 초기화\n",
        "        torch.nn.init.xavier_uniform_(self.fc.weight)\n",
        "\n",
        "    def forward(self, x):\n",
        "        out = self.layer1(x)\n",
        "        out = self.layer2(out)\n",
        "        out = out.view(out.size(0), -1)   # 전결합층을 위해서 Flatten\n",
        "        out = self.fc(out)\n",
        "        return out"
      ],
      "metadata": {
        "id": "1ijhSeh7Fwg8"
      },
      "execution_count": null,
      "outputs": []
    },
    {
      "cell_type": "code",
      "source": [
        "model = CNN().to(device)"
      ],
      "metadata": {
        "id": "MJobe2diGRNP"
      },
      "execution_count": null,
      "outputs": []
    },
    {
      "cell_type": "code",
      "source": [
        "criterion = torch.nn.CrossEntropyLoss().to(device)    # 비용 함수에 소프트맥스 함수 포함되어져 있음.\n",
        "optimizer = torch.optim.Adam(model.parameters(), lr=lr)"
      ],
      "metadata": {
        "id": "ZkiWFGclGVcM"
      },
      "execution_count": null,
      "outputs": []
    },
    {
      "cell_type": "code",
      "source": [
        "total_batch = len(data_loader)\n",
        "print('총 배치의 수 : {}'.format(total_batch))"
      ],
      "metadata": {
        "id": "ZlrhvSCGGZne"
      },
      "execution_count": null,
      "outputs": []
    },
    {
      "cell_type": "code",
      "source": [
        "for epoch in range(epochs):\n",
        "    avg_cost = 0\n",
        "\n",
        "    for X, Y in data_loader: \n",
        "        X = X.to(device)\n",
        "        Y = Y.to(device)\n",
        "\n",
        "        optimizer.zero_grad()\n",
        "        hypothesis = model(X)\n",
        "        cost = criterion(hypothesis, Y)\n",
        "        cost.backward()\n",
        "        optimizer.step()\n",
        "\n",
        "        avg_cost += cost / total_batch\n",
        "\n",
        "    print('[Epoch: {:>4}] cost = {:>.9}'.format(epoch + 1, avg_cost))"
      ],
      "metadata": {
        "id": "od4Mb9SZGdZ9"
      },
      "execution_count": null,
      "outputs": []
    },
    {
      "cell_type": "code",
      "source": [
        "with torch.no_grad():\n",
        "    X_test = mnist_test.test_data.view(len(mnist_test), 1, 28,28).float().to(device)\n",
        "    Y_test = mnist_test.test_labels.to(device)\n",
        "\n",
        "    prediction = model(X_test)\n",
        "    correct_prediction = torch.argmax(prediction, 1) == Y_test\n",
        "    accuracy = correct_prediction.float().mean()\n",
        "    print('Accuracy: ', accuracy.item())"
      ],
      "metadata": {
        "id": "3lQme4sYIi2V"
      },
      "execution_count": null,
      "outputs": []
    }
  ]
}