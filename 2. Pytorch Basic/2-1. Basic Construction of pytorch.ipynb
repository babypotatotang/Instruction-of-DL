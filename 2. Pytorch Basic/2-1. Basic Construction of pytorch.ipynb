{
 "cells": [
  {
   "cell_type": "markdown",
   "metadata": {},
   "source": [
    "# 01. 파이토치 패키지의 기본 구성 \n",
    "## 1. torch\n",
    "* 메인 네임스페이스\n",
    "* 텐서 등의 다양한 수학 함수가 포함되어져 있음. \n",
    "* Numpy와 유사한 구조를 가짐\n",
    "## 2. torch.autograd\n",
    "* 자동 미분을 위한 함수들이 포함됨. \n",
    "* (enable_grad/no_grad) 자동 미분의 on/off를 제어하는 콘텍스트 매니저 포함\n",
    "* (Function) 자체 미분 가능 함수를 정의할때 사용하는 기반 클래스 포함\n",
    "## 3. torch.nn\n",
    "* 신경망을 구축하기 위한 다양한 데이터 구조나 레이어 등이 정의됨. \n",
    "* 레이어(RNN, LSTM 등), 활성화 함수(ReLU 등), 손실 함수(MSELoss)등 포함\n",
    "## 4. torch.optim\n",
    "* 확률적 경사 하강법(Stochastic)을 중심으로 한 파라미터 최적화 알고리즘을 구현함. \n",
    "## 5. torch.utils.data\n",
    "* SGD의 반복 연산을 실행할때 사용하는 미니 배치용 유틸리티 함수가 포함됨. \n",
    "# 6. torch.onnx\n",
    "* ONNX(Open Neural Network Exchange)의 포맷으로 모델을 export할때 사용함. \n",
    "* 서로 다른 딥러닝 프레임워크 간에 모델을 공유할 때 사용하는 포맷. "
   ]
  }
 ],
 "metadata": {
  "interpreter": {
   "hash": "33bb709aa52d0f1c012e153b74c2c585d1723b1d162db1a778a7381b9d9efdce"
  },
  "kernelspec": {
   "display_name": "Python 3.7.13 ('deeplearning')",
   "language": "python",
   "name": "python3"
  },
  "language_info": {
   "name": "python",
   "version": "3.7.13"
  },
  "orig_nbformat": 4
 },
 "nbformat": 4,
 "nbformat_minor": 2
}
